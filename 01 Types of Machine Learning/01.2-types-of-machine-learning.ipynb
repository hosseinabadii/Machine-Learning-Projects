{
 "cells": [
  {
   "attachments": {},
   "cell_type": "markdown",
   "metadata": {},
   "source": [
    "# Machine Learning\n",
    "Machine learning is a subset of AI, which enables the machine to automatically learn from data, improve performance from past experiences, and make predictions. Machine learning contains a set of algorithms that work on a huge amount of data. Data is fed to these algorithms to train them, and on the basis of training, they build the model & perform a specific task."
   ]
  },
  {
   "attachments": {},
   "cell_type": "markdown",
   "metadata": {},
   "source": [
    "\n",
    "## Types of Machine Learning\n",
    "Based on the methods and way of learning, machine learning is divided into mainly four types, which are:\n",
    "\n",
    "- Supervised Machine Learning\n",
    "\n",
    "- Unsupervised Machine Learning\n",
    "- Semi-Supervised Machine Learning\n",
    "- Reinforcement Learning\n",
    "- Deep Learning\n",
    "\n",
    "<img src=\"images/categories_machine_learning.jpg\" with=800>\n",
    "\n",
    "<img src=\"images/types-of-machine-learning.png\" width=800>\n",
    "\n",
    "<img src=\"images/types-of-machine-learning2.png\" width=800>\n",
    "\n",
    "<img src=\"images/Types-of-Machine-Learning-algorithms.webp\" width=800>\n"
   ]
  },
  {
   "attachments": {},
   "cell_type": "markdown",
   "metadata": {},
   "source": [
    "The main goal of the supervised learning technique is to map the input variable(x) with the output variable(y). Some real-world applications of supervised learning are Risk Assessment, Fraud Detection, Spam filtering, etc."
   ]
  },
  {
   "attachments": {},
   "cell_type": "markdown",
   "metadata": {},
   "source": [
    "## Supervised Machine Learning"
   ]
  },
  {
   "attachments": {},
   "cell_type": "markdown",
   "metadata": {},
   "source": [
    "### a) Classification"
   ]
  },
  {
   "attachments": {},
   "cell_type": "markdown",
   "metadata": {},
   "source": [
    "Some popular classification algorithms are given below:\n",
    "\n",
    "- Logistic Regression Algorithm\n",
    "\n",
    "- Naive Bayes Classifier\n",
    "- K-Nearest Neighbors (KNN)\n",
    "- Support Vector Machines (SVM)\n",
    "- Decision Tree Algorithm\n",
    "- Random Forest Algorithm\n",
    "- Artificial Neural Network (ANN)\n",
    "- Linear Discriminant Analysis (LDA)"
   ]
  },
  {
   "attachments": {},
   "cell_type": "markdown",
   "metadata": {},
   "source": [
    "### b) Regression"
   ]
  },
  {
   "attachments": {},
   "cell_type": "markdown",
   "metadata": {},
   "source": [
    "Some popular Regression algorithms are given below:\n",
    "\n",
    "- Simple Linear Regression\n",
    "\n",
    "- Multiple linear Regression\n",
    "- Polynomial Regression\n",
    "- Support Vector Regression (SVR)\n",
    "- Decision Tree Regression\n",
    "- Random Forest Regression\n",
    "- Generalized Linear Model (GLM)\n",
    "- Ridge Regression\n",
    "- Lasso Regression\n",
    "- Gaussian Process Regression (GPR)\n",
    "- Elastic Net Regression\n",
    "- Neural Network Regression\n",
    "- Multivariate Regression\n",
    "- Ensemble Method"
   ]
  },
  {
   "attachments": {},
   "cell_type": "markdown",
   "metadata": {},
   "source": [
    "## c) Forecasting"
   ]
  },
  {
   "attachments": {},
   "cell_type": "markdown",
   "metadata": {},
   "source": [
    "Forecasting is the process of making predictions about the future based on the past and present data, and is commonly used to analyse trends."
   ]
  },
  {
   "attachments": {},
   "cell_type": "markdown",
   "metadata": {},
   "source": [
    "## Unsupervised Machine Learning"
   ]
  },
  {
   "cell_type": "markdown",
   "metadata": {},
   "source": [
    "### a) Clustering"
   ]
  },
  {
   "attachments": {},
   "cell_type": "markdown",
   "metadata": {},
   "source": [
    "Some of the popular clustering algorithms are given below:\n",
    "\n",
    "- K-Means Clustering algorithm\n",
    "\n",
    "- Hierarchical Clustering\n",
    "- Mean-shift algorithm\n",
    "- DBSCAN Algorithm\n",
    "- Independent Component Analysis\n",
    "- Agglomerative Hierarchical Clustering\n",
    "- Gaussian Mixture"
   ]
  },
  {
   "cell_type": "markdown",
   "metadata": {},
   "source": [
    "### b) Association"
   ]
  },
  {
   "attachments": {},
   "cell_type": "markdown",
   "metadata": {},
   "source": [
    "Some popular algorithms of Association rule learning are:\n",
    "- Apriori Algorithm\n",
    "- Eclat\n",
    "- FP-growth algorithm."
   ]
  },
  {
   "attachments": {},
   "cell_type": "markdown",
   "metadata": {},
   "source": [
    "### c) Anomaly detection\n",
    "\n",
    "### d) Autoencoders\n",
    "\n",
    "### e) Principal Component Analysis\n",
    "\n",
    "### f) Dimension reduction"
   ]
  },
  {
   "attachments": {},
   "cell_type": "markdown",
   "metadata": {},
   "source": [
    "## Semi-Supervised Learning"
   ]
  },
  {
   "attachments": {},
   "cell_type": "markdown",
   "metadata": {},
   "source": [
    "Some popular algorithms of Semi-Supervised Learning are:\n",
    "\n",
    "- Self-Training\n",
    "- Co-Training\n",
    "- Multi-View Learning\n",
    "- Generative Models (such as Variational Autoencoders)"
   ]
  },
  {
   "attachments": {},
   "cell_type": "markdown",
   "metadata": {},
   "source": [
    "## Reinforcement Learning"
   ]
  },
  {
   "attachments": {},
   "cell_type": "markdown",
   "metadata": {},
   "source": [
    "Some popular algorithms of Reinforcement Learning are:\n",
    "- Q Learning\n",
    "- R Learning\n",
    "- TD Learning\n",
    "- Sarsa\n",
    "- Monte Carlo\n",
    "- Deep Q Network\n",
    "- Policy Gradient Methods\n",
    "- Actor-Critic Methods"
   ]
  },
  {
   "attachments": {},
   "cell_type": "markdown",
   "metadata": {},
   "source": [
    "## Deep Learning"
   ]
  },
  {
   "attachments": {},
   "cell_type": "markdown",
   "metadata": {},
   "source": [
    "The deep learning is a model based on Artificial Neural Networks (ANN), more specifically Convolutional Neural Networks (CNN)s."
   ]
  },
  {
   "attachments": {},
   "cell_type": "markdown",
   "metadata": {},
   "source": [
    "There are several architectures used in deep learning such as:\n",
    "- Deep Belief Networks (DBN)\n",
    "- Deep Neural Networks (DNN)\n",
    "- Recurrent Neural Networks (RNN)\n",
    "- Convolutional Neural Networks (CNN)\n",
    "- Gated Recurrent Unit Networks (GRU)\n",
    "- Long Short-Term Memory Networks (LSTM)"
   ]
  },
  {
   "cell_type": "markdown",
   "metadata": {},
   "source": [
    "### Applications:\n",
    "- speech recognition\n",
    "- natural language processing\n",
    "- bioinformatics\n",
    "- drug design\n",
    "- medical image analysis\n",
    "- games."
   ]
  },
  {
   "attachments": {},
   "cell_type": "markdown",
   "metadata": {},
   "source": [
    "source link:\n",
    "- https://www.javatpoint.com/types-of-machine-learning\n",
    "\n",
    "- https://www.tutorialspoint.com/machine_learning/machine_learning_categories.htm\n",
    "\n",
    "- https://www.simplilearn.com/tutorials/machine-learning-tutorial/types-of-machine-learning\n",
    "\n",
    "- https://www.analyticsvidhya.com/blog/2021/03/everything-you-need-to-know-about-machine-learning/\n",
    "\n",
    "- https://www.sas.com/en_gb/insights/articles/analytics/machine-learning-algorithms.html\n",
    "\n",
    "- https://www.mathworks.com/discovery/machine-learning-models.html"
   ]
  }
 ],
 "metadata": {
  "language_info": {
   "name": "python"
  },
  "orig_nbformat": 4
 },
 "nbformat": 4,
 "nbformat_minor": 2
}
