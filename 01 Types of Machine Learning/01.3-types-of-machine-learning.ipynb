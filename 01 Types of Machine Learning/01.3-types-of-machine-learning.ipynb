{
 "cells": [
  {
   "attachments": {},
   "cell_type": "markdown",
   "metadata": {},
   "source": [
    "#  Types of Learning"
   ]
  },
  {
   "attachments": {},
   "cell_type": "markdown",
   "metadata": {},
   "source": [
    "## #1: Learning Problems"
   ]
  },
  {
   "attachments": {},
   "cell_type": "markdown",
   "metadata": {},
   "source": [
    "- **Supervised Learning:**\n",
    "Supervised learning describes a class of problem that involves using a model to learn a mapping between input examples and the target variable.\n",
    "\n",
    "- **Unsupervised Learning:**\n",
    "Unsupervised learning describes a class of problems that involves using a model to describe or extract relationships in data.Compared to supervised learning, unsupervised learning operates upon only the input data without outputs or target variables.\n",
    "\n",
    "- **Reinforcement Learning:**\n",
    "Reinforcement learning describes a class of problems where an agent operates in an environment and must learn to operate using feedback.\n"
   ]
  },
  {
   "attachments": {},
   "cell_type": "markdown",
   "metadata": {},
   "source": [
    "## #2: Hybrid Learning Problems\n",
    "The lines between unsupervised and supervised learning is blurry, and there are many hybrid approaches that draw from each field of study."
   ]
  },
  {
   "attachments": {},
   "cell_type": "markdown",
   "metadata": {},
   "source": [
    "- **Semi-Supervised Learning:**\n",
    "Semi-supervised learning is supervised learning where the training data contains very few labeled examples and a large number of unlabeled examples. The goal of a semi-supervised learning model is to make effective use of all of the available data, not just the labelled data like in supervised learning.\n",
    "\n",
    "- **Self-Supervised Learning:**\n",
    "Self-supervised learning refers to an unsupervised learning problem that is framed as a supervised learning problem in order to apply supervised learning algorithms to solve it. Supervised learning algorithms are used to solve an alternate or pretext task, the result of which is a model or representation that can be used in the solution of the original (actual) modeling problem.\n",
    "\n",
    "- **Multi-Instance Learning:**\n",
    "Multi-instance learning is a supervised learning problem where individual examples are unlabeled; instead, bags or groups of samples are labeled. Instances are in “bags” rather than sets because a given instance may be present one or more times, e.g. duplicates.  \n",
    "Modeling involves using knowledge that one or some of the instances in a bag are associated with a target label, and to predict the label for new bags in the future given their composition of multiple unlabeled examples.\n"
   ]
  },
  {
   "attachments": {},
   "cell_type": "markdown",
   "metadata": {},
   "source": [
    "## #3: Statistical Inference"
   ]
  },
  {
   "attachments": {},
   "cell_type": "markdown",
   "metadata": {},
   "source": [
    "- **Inductive Learning:**\n",
    "Learning a general model from specific examples.\n",
    "\n",
    "- **Deductive Inference:**\n",
    "Using a model to make predictions.\n",
    "\n",
    "- **Transductive Learning:**\n",
    "Using specific examples to make predictions."
   ]
  },
  {
   "attachments": {},
   "cell_type": "markdown",
   "metadata": {},
   "source": [
    "## #4: Learning Techniques"
   ]
  },
  {
   "attachments": {},
   "cell_type": "markdown",
   "metadata": {},
   "source": [
    "- **Multi-Task Learning:**\n",
    "Multi-task learning is a type of supervised learning that involves fitting a model on one dataset that addresses multiple related problems.\n",
    "\n",
    "- **Active Learning:**\n",
    "Active learning is a technique where the model is able to query a human user operator during the learning process in order to resolve ambiguity during the learning process.\n",
    "\n",
    "- **Online Learning:**\n",
    "Online learning involves using the data available and updating the model directly before a prediction is required or after the last observation was made.\n",
    "\n",
    "- **Transfer Learning:**\n",
    "Transfer learning is a type of learning where a model is first trained on one task, then some or all of the model is used as the starting point for a related task.\n",
    "\n",
    "- **Ensemble Learning:**\n",
    "Ensemble learning is an approach where two or more modes are fit on the same data and the predictions from each model are combined."
   ]
  },
  {
   "cell_type": "markdown",
   "metadata": {},
   "source": [
    "source link:  \n",
    "https://machinelearningmastery.com/types-of-learning-in-machine-learning/"
   ]
  }
 ],
 "metadata": {
  "language_info": {
   "name": "python"
  },
  "orig_nbformat": 4
 },
 "nbformat": 4,
 "nbformat_minor": 2
}
