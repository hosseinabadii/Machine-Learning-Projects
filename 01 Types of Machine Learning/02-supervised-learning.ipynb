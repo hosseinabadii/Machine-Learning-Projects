{
 "cells": [
  {
   "attachments": {},
   "cell_type": "markdown",
   "metadata": {},
   "source": [
    "# Supervised Machine Learning"
   ]
  },
  {
   "attachments": {},
   "cell_type": "markdown",
   "metadata": {},
   "source": [
    "As its name suggests, Supervised machine learning is based on supervision. It means in the supervised learning technique, we train the machines using the \"labelled\" dataset, and based on the training, the machine predicts the output. Here, the labelled data specifies that some of the inputs are already mapped to the output.\n",
    "\n",
    "<img src=\"images/supervised-learning.webp\" width=800>"
   ]
  },
  {
   "attachments": {},
   "cell_type": "markdown",
   "metadata": {},
   "source": [
    "More preciously, we can say; first, we train the machine with the input and corresponding output, and then we ask the machine to predict the output using the test dataset. The main goal of the supervised learning technique is to map the input variable(x) with the output variable(y)."
   ]
  },
  {
   "cell_type": "markdown",
   "metadata": {},
   "source": [
    "<img src=\"images/01.1-supervised-learning.png\" width=800>"
   ]
  },
  {
   "attachments": {},
   "cell_type": "markdown",
   "metadata": {},
   "source": [
    "## Categories of Supervised Machine Learning"
   ]
  },
  {
   "attachments": {},
   "cell_type": "markdown",
   "metadata": {},
   "source": [
    "Supervised machine learning can be classified into two types of problems, which are given below:\n",
    "\n",
    "- **Classification**\n",
    "- **Regression**"
   ]
  },
  {
   "attachments": {},
   "cell_type": "markdown",
   "metadata": {},
   "source": [
    "### a) Classification"
   ]
  },
  {
   "attachments": {},
   "cell_type": "markdown",
   "metadata": {},
   "source": [
    "\n",
    "Classification algorithms are used to solve the classification problems in which the output variable is categorical, such as \"Yes\" or No, Male or Female, Red or Blue, etc. The classification algorithms predict the categories present in the dataset. Some real-world examples of classification algorithms are Spam Detection, Email filtering, etc.\n",
    "\n",
    "Some popular classification algorithms are given below:\n",
    "\n",
    "- Naive Bayes Classifier\n",
    "\n",
    "- Random Forest Algorithm\n",
    "- Decision Tree Algorithm\n",
    "- Logistic Regression Algorithm\n",
    "- Support Vector Machines (SVM)\n",
    "- K-Nearest Neighbors (KNN)\n",
    "- Artificial Neural Network (ANN)\n",
    "- Linear Discriminant Analysis (LDA)"
   ]
  },
  {
   "attachments": {},
   "cell_type": "markdown",
   "metadata": {},
   "source": [
    "### b) Regression"
   ]
  },
  {
   "attachments": {},
   "cell_type": "markdown",
   "metadata": {},
   "source": [
    "Regression algorithms are used to solve regression problems in which there is a linear relationship between input and output variables. These are used to predict continuous output variables, such as market trends, weather prediction, etc.\n",
    "\n",
    "Some popular Regression algorithms are given below:\n",
    "\n",
    "- Linear Regression\n",
    "\n",
    "- Multiple linear Regression\n",
    "- Polynomial Regression\n",
    "- Ridge Regression\n",
    "- Lasso Regression\n",
    "- Elastic Net Regression\n",
    "- Random Forest Regression\n",
    "- Neural Network Regression\n",
    "- Support Vector Regression (SVR)\n",
    "- Multivariate Regression\n",
    "- Decision Tree Regression\n",
    "- Ensemble Method"
   ]
  },
  {
   "attachments": {},
   "cell_type": "markdown",
   "metadata": {},
   "source": [
    "## Advantages and Disadvantages"
   ]
  },
  {
   "attachments": {},
   "cell_type": "markdown",
   "metadata": {},
   "source": [
    "**Advantages**:\n",
    "- Since supervised learning work with the labelled dataset so we can have an exact idea about the classes of objects.\n",
    "- These algorithms are helpful in predicting the output on the basis of prior experience.\n",
    "\n",
    "**Disadvantages**:\n",
    "\n",
    "- These algorithms are not able to solve complex tasks.\n",
    "- It may predict the wrong output if the test data is different from the training data.\n",
    "- It requires lots of computational time to train the algorithm."
   ]
  },
  {
   "attachments": {},
   "cell_type": "markdown",
   "metadata": {},
   "source": [
    "## Applications of Supervised Learning"
   ]
  },
  {
   "attachments": {},
   "cell_type": "markdown",
   "metadata": {},
   "source": [
    "Some common applications of Supervised Learning are given below:\n",
    "\n",
    "- Image Segmentation\n",
    "\n",
    "- Medical Diagnosis\n",
    "\n",
    "- Fraud Detection\n",
    "\n",
    "- Spam detection\n",
    "\n",
    "- Speech Recognition\n",
    "\n",
    "- Determining whether loan applicants are low-risk or high-risk\n",
    "\n",
    "- Predicting the failure of industrial equipment's mechanical parts\n",
    "\n",
    "- weather prediction\n",
    "\n",
    "- sales forecasting\n",
    "\n",
    "- stock price analysis\n",
    "\n",
    "- risk assessment\n",
    "\n",
    "- score prediction"
   ]
  },
  {
   "attachments": {},
   "cell_type": "markdown",
   "metadata": {},
   "source": [
    "source link:\n",
    "- https://www.javatpoint.com/types-of-machine-learning\n",
    "\n",
    "- https://www.simplilearn.com/tutorials/machine-learning-tutorial/types-of-machine-learning\n",
    "\n",
    "- https://data-flair.training/blogs/types-of-machine-learning-algorithms/"
   ]
  }
 ],
 "metadata": {
  "language_info": {
   "name": "python"
  },
  "orig_nbformat": 4
 },
 "nbformat": 4,
 "nbformat_minor": 2
}
