{
 "cells": [
  {
   "attachments": {},
   "cell_type": "markdown",
   "metadata": {},
   "source": [
    "# Unsupervised Machine Learning\n"
   ]
  },
  {
   "attachments": {},
   "cell_type": "markdown",
   "metadata": {},
   "source": [
    "Unsupervised learning is different from the Supervised learning technique; as its name suggests, there is no need for supervision. It means, in unsupervised machine learning, the machine is trained using the unlabeled dataset, and the machine predicts the output without any supervision.\n",
    "\n",
    "<img src=\"images/unsupervised-learning.webp\" width=800>\n",
    "\n",
    "In unsupervised learning, the models are trained with the data that is neither classified nor labelled, and the model acts on that data without any supervision.\n",
    "\n",
    "<img src=\"images/01.2-unsupervised-learning.png\" width=800>\n",
    "\n",
    "The main aim of the unsupervised learning algorithm is to group or categories the unsorted dataset according to the similarities, patterns, and differences. Machines are instructed to find the hidden patterns from the input dataset.\n"
   ]
  },
  {
   "attachments": {},
   "cell_type": "markdown",
   "metadata": {},
   "source": [
    "## Categories of Unsupervised Machine Learning\n"
   ]
  },
  {
   "attachments": {},
   "cell_type": "markdown",
   "metadata": {},
   "source": [
    "Unsupervised Learning can be further classified into two types, which are given below:\n",
    "\n",
    "- **Clustering**\n",
    "\n",
    "- **Association**\n"
   ]
  },
  {
   "attachments": {},
   "cell_type": "markdown",
   "metadata": {},
   "source": [
    "### a) Clustering\n"
   ]
  },
  {
   "attachments": {},
   "cell_type": "markdown",
   "metadata": {},
   "source": [
    "The clustering technique is used when we want to find the inherent groups from the data. It is a way to group the objects into a cluster such that the objects with the most similarities remain in one group and have fewer or no similarities with the objects of other groups. An example of the clustering algorithm is grouping the customers by their purchasing behaviour.\n"
   ]
  },
  {
   "attachments": {},
   "cell_type": "markdown",
   "metadata": {},
   "source": [
    "Some of the popular clustering algorithms are given below:\n",
    "\n",
    "- **K-Means Clustering algorithm:**\n",
    "  The aim of the k-means clustering algorithm is to partition the n observations in the data into k clusters such that each observation belongs to the cluster with the nearest mean.\n",
    "\n",
    "- **Hierarchical Clustering:**\n",
    "  In this form of clustering, a hierarchy of clusters is built.\n",
    "\n",
    "- **DBSCAN Algorithm:**\n",
    "  It stands for Density-based spatial clustering of applications with noise algorithm. It is a clustering method that groups the data based on the density. It groups together the points that are given in the space and marks the outliers in the low-density region.\n",
    "\n",
    "- Mean-shift algorithm\n",
    "\n",
    "- Independent Component Analysis\n",
    "\n",
    "- Agglomerative Hierarchical Clustering\n",
    "\n",
    "- Gaussian Mixture\n"
   ]
  },
  {
   "attachments": {},
   "cell_type": "markdown",
   "metadata": {},
   "source": [
    "### b) Association\n"
   ]
  },
  {
   "attachments": {},
   "cell_type": "markdown",
   "metadata": {},
   "source": [
    "Association rule learning is an unsupervised learning technique, which finds interesting relations among variables within a large dataset. The main aim of this learning algorithm is to find the dependency of one data item on another data item and map those variables accordingly so that it can generate maximum profit. This algorithm is mainly applied in Market Basket analysis, Web usage mining, continuous production, etc.\n"
   ]
  },
  {
   "attachments": {},
   "cell_type": "markdown",
   "metadata": {},
   "source": [
    "Some popular algorithms of Association rule learning are:\n",
    "\n",
    "- Apriori Algorithm\n",
    "- Eclat\n",
    "- FP-growth algorithm.\n"
   ]
  },
  {
   "attachments": {},
   "cell_type": "markdown",
   "metadata": {},
   "source": [
    "### c) Anomaly detection\n"
   ]
  },
  {
   "attachments": {},
   "cell_type": "markdown",
   "metadata": {},
   "source": [
    "Anomaly Detection techniques detect outliers in the unlabeled data under an assumption that most of the data examples are normal by observing the instances that fit the remainder of the data set.\n"
   ]
  },
  {
   "attachments": {},
   "cell_type": "markdown",
   "metadata": {},
   "source": [
    "### d) Autoencoders\n"
   ]
  },
  {
   "attachments": {},
   "cell_type": "markdown",
   "metadata": {},
   "source": [
    "Autoencoders are a type of Neural Networks that are used in Unsupervised Learning for representation learning. They are used in denoising and dimensionality reduction.\n"
   ]
  },
  {
   "attachments": {},
   "cell_type": "markdown",
   "metadata": {},
   "source": [
    "### e) Principal Component Analysis\n",
    "\n",
    "It is a class of unsupervised learning paradigm which is used for reducing the dimensions of the data.\n"
   ]
  },
  {
   "attachments": {},
   "cell_type": "markdown",
   "metadata": {},
   "source": [
    "### f) Dimension reduction\n",
    "\n",
    "Dimension reduction reduces the number of variables being considered to find the exact information required.\n"
   ]
  },
  {
   "attachments": {},
   "cell_type": "markdown",
   "metadata": {},
   "source": [
    "## Advantages and Disadvantages\n"
   ]
  },
  {
   "attachments": {},
   "cell_type": "markdown",
   "metadata": {},
   "source": [
    "**Advantages:**\n",
    "\n",
    "- These algorithms can be used for complicated tasks compared to the supervised ones because these algorithms work on the unlabeled dataset.\n",
    "- Unsupervised algorithms are preferable for various tasks as getting the unlabeled dataset is easier as compared to the labelled dataset.\n",
    "\n",
    "**Disadvantages:**\n",
    "\n",
    "- The output of an unsupervised algorithm can be less accurate as the dataset is not labelled, and algorithms are not trained with the exact output in prior.\n",
    "- Working with Unsupervised learning is more difficult as it works with the unlabelled dataset that does not map with the output.\n"
   ]
  },
  {
   "attachments": {},
   "cell_type": "markdown",
   "metadata": {},
   "source": [
    "## Applications of Unsupervised Learning\n"
   ]
  },
  {
   "attachments": {},
   "cell_type": "markdown",
   "metadata": {},
   "source": [
    "- **Network Analysis:**\n",
    "  Unsupervised learning is used for identifying plagiarism and copyright in document network analysis of text data for scholarly articles.\n",
    "\n",
    "- **Recommendation Systems:**\n",
    "  Recommendation systems widely use unsupervised learning techniques for building recommendation applications for different web applications and e-commerce websites.\n",
    "\n",
    "- **Anomaly Detection:**\n",
    "  Anomaly detection is a popular application of unsupervised learning, which can identify unusual data points within the dataset. It is used to discover fraudulent transactions.\n",
    "\n",
    "- **Singular Value Decomposition:**\n",
    "  Singular Value Decomposition or SVD is used to extract particular information from the database. For example, extracting information of each user located at a particular location.\n",
    "\n",
    "- **customer segmentation:**\n",
    "  Creating customer groups based on purchase behavior\n",
    "\n",
    "- Grouping inventory according to sales and/or manufacturing metrics\n",
    "\n",
    "- Pinpointing associations in customer data (for example, customers who buy a specific style of handbag might be interested in a specific style of shoe)\n",
    "\n",
    "- churn rate analysis\n",
    "\n",
    "- image recognition\n",
    "\n",
    "- face recognition\n",
    "\n",
    "- text mining\n",
    "\n",
    "- big data visualization\n"
   ]
  },
  {
   "attachments": {},
   "cell_type": "markdown",
   "metadata": {},
   "source": [
    "source link:\n",
    "\n",
    "- https://www.javatpoint.com/types-of-machine-learning\n",
    "\n",
    "- https://www.simplilearn.com/tutorials/machine-learning-tutorial/types-of-machine-learning\n",
    "\n",
    "- https://data-flair.training/blogs/types-of-machine-learning-algorithms/\n"
   ]
  }
 ],
 "metadata": {
  "language_info": {
   "name": "python"
  },
  "orig_nbformat": 4
 },
 "nbformat": 4,
 "nbformat_minor": 2
}
