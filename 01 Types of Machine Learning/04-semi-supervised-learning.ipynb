{
 "cells": [
  {
   "attachments": {},
   "cell_type": "markdown",
   "metadata": {},
   "source": [
    "# Semi-Supervised Learning"
   ]
  },
  {
   "attachments": {},
   "cell_type": "markdown",
   "metadata": {},
   "source": [
    "Semi-Supervised learning is a type of Machine Learning algorithm that lies between Supervised and Unsupervised machine learning. It represents the intermediate ground between Supervised (With Labelled training data) and Unsupervised learning (with no labelled training data) algorithms and uses the combination of labelled and unlabeled datasets during the training period.\n",
    "\n",
    "<img src=\"images/01.3-semi-supervised-learning.png\" width=800>\n",
    "\n",
    "Although Semi-supervised learning is the middle ground between supervised and unsupervised learning and operates on the data that consists of a few labels, it mostly consists of unlabeled data. As labels are costly, but for corporate purposes, they may have few labels. It is completely different from supervised and unsupervised learning as they are based on the presence & absence of labels.\n",
    "\n",
    "To overcome the drawbacks of supervised learning and unsupervised learning algorithms, the concept of Semi-supervised learning is introduced. The main aim of semi-supervised learning is to effectively use all the available data, rather than only labelled data like in supervised learning. Initially, similar data is clustered along with an unsupervised learning algorithm, and further, it helps to label the unlabeled data into labelled data. It is because labelled data is a comparatively more expensive acquisition than unlabeled data."
   ]
  },
  {
   "attachments": {},
   "cell_type": "markdown",
   "metadata": {},
   "source": [
    "## Categories of Semi-Supervised Machine Learning"
   ]
  },
  {
   "attachments": {},
   "cell_type": "markdown",
   "metadata": {},
   "source": [
    "Some popular algorithms of Semi-Supervised Learning are:\n",
    "\n",
    "- Self-Training\n",
    "- Co-Training\n",
    "- Multi-View Learning\n",
    "- Trancductive SVM\n",
    "- Graph-based Semi-supervised learning\n",
    "- Generative Models (such as Variational Autoencoders)"
   ]
  },
  {
   "attachments": {},
   "cell_type": "markdown",
   "metadata": {},
   "source": [
    "## Advantages and Disadvantages"
   ]
  },
  {
   "attachments": {},
   "cell_type": "markdown",
   "metadata": {},
   "source": [
    "**Advantages:**\n",
    "\n",
    "- It is simple and easy to understand the algorithm.\n",
    "- It is highly efficient.\n",
    "- It is used to solve drawbacks of Supervised and Unsupervised Learning algorithms.\n",
    "\n",
    "**Disadvantages:**\n",
    "\n",
    "- Iterations results may not be stable.\n",
    "- We cannot apply these algorithms to network-level data.\n",
    "- Accuracy is low."
   ]
  },
  {
   "attachments": {},
   "cell_type": "markdown",
   "metadata": {},
   "source": [
    "source link:\n",
    "- https://www.javatpoint.com/types-of-machine-learning\n",
    "\n",
    "- https://www.enjoyalgorithms.com/blog/classification-of-machine-learning-models"
   ]
  }
 ],
 "metadata": {
  "language_info": {
   "name": "python"
  },
  "orig_nbformat": 4
 },
 "nbformat": 4,
 "nbformat_minor": 2
}
