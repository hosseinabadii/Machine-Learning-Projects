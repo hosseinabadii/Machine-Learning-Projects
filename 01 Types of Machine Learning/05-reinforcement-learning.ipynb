{
 "cells": [
  {
   "attachments": {},
   "cell_type": "markdown",
   "metadata": {},
   "source": [
    "#  Reinforcement Learning"
   ]
  },
  {
   "attachments": {},
   "cell_type": "markdown",
   "metadata": {},
   "source": [
    "Reinforcement learning works on a feedback-based process, in which an AI agent (A software component) automatically explore its surrounding by hitting & trail, taking action, learning from experiences, and improving its performance. Agent gets rewarded for each good action and get punished for each bad action; hence the goal of reinforcement learning agent is to maximize the rewards.\n",
    "\n",
    "<img src=\"images/01.4-reinforcement-learning.png\" width=800>\n",
    "\n",
    "In reinforcement learning, there is no labelled data like supervised learning, and agents learn from their experiences only. The reinforcement learning process is similar to a human being.\n",
    "\n",
    "A reinforcement learning problem can be formalized using Markov Decision Process(MDP). In MDP, the agent constantly interacts with the environment and performs actions; at each action, the environment responds and generates a new state."
   ]
  },
  {
   "attachments": {},
   "cell_type": "markdown",
   "metadata": {},
   "source": [
    "## Categories of Reinforcement Learning"
   ]
  },
  {
   "attachments": {},
   "cell_type": "markdown",
   "metadata": {},
   "source": [
    "Reinforcement learning is categorized mainly into two types of methods/algorithms:\n",
    "\n",
    "- **Positive Reinforcement Learning**\n",
    "- **Negative Reinforcement Learning**"
   ]
  },
  {
   "attachments": {},
   "cell_type": "markdown",
   "metadata": {},
   "source": [
    "### Algorithms\n",
    "\n",
    "- Q Learning\n",
    "- R Learning\n",
    "- TD Learning\n",
    "- Sarsa\n",
    "- Monte Carlo\n",
    "- Deep Q Network\n",
    "- Policy Gradient Methods\n",
    "- Actor-Critic Methods\n",
    "- Quantum Neural Networks (QNN)"
   ]
  },
  {
   "attachments": {},
   "cell_type": "markdown",
   "metadata": {},
   "source": [
    "## Advantages and Disadvantages"
   ]
  },
  {
   "attachments": {},
   "cell_type": "markdown",
   "metadata": {},
   "source": [
    "**Advantages:**\n",
    "\n",
    "- It helps in solving complex real-world problems which are difficult to be solved by general techniques.\n",
    "- The learning model of RL is similar to the learning of human beings; hence most accurate results can be found.\n",
    "- Helps in achieving long term results.\n",
    "\n",
    "**Disadvantages:**\n",
    "\n",
    "- RL algorithms are not preferred for simple problems.\n",
    "- RL algorithms require huge data and computations.\n",
    "- Too much reinforcement learning can lead to an overload of states which can weaken the results."
   ]
  },
  {
   "attachments": {},
   "cell_type": "markdown",
   "metadata": {},
   "source": [
    "## Applications of Reinforcement Learning"
   ]
  },
  {
   "attachments": {},
   "cell_type": "markdown",
   "metadata": {},
   "source": [
    "- **Video Games:**\n",
    "RL algorithms are much popular in gaming applications. It is used to gain super-human performance. Some popular games that use RL algorithms are AlphaGO and AlphaGO Zero.\n",
    "\n",
    "- **Resource Management:**\n",
    "The \"Resource Management with Deep Reinforcement Learning\" paper showed that how to use RL in computer to automatically learn and schedule resources to wait for different jobs in order to minimize average job slowdown.\n",
    "\n",
    "- **Robotics:**\n",
    "RL is widely being used in Robotics applications. Robots are used in the industrial and manufacturing area, and these robots are made more powerful with reinforcement learning. There are different industries that have their vision of building intelligent robots using AI and Machine learning technology.\n",
    "\n",
    "- **Text Mining:**\n",
    "Text-mining, one of the great applications of NLP, is now being implemented with the help of Reinforcement Learning by Salesforce company.\n",
    "\n",
    "- Teaching cars to park themselves and drive autonomously\n",
    "\n",
    "- Dynamically controlling traffic lights to reduce traffic jams\n",
    "\n",
    "- Training robots to learn policies using raw video images as input that they can use to replicate the actions they see\n",
    "\n",
    "- Optimizing energy consumption in smart homes.\n",
    "\n",
    "- Controlling autonimous vehicles, such as self-driving cars."
   ]
  },
  {
   "cell_type": "markdown",
   "metadata": {},
   "source": [
    "source link:\n",
    "- https://www.javatpoint.com/types-of-machine-learning\n",
    "\n",
    "- https://www.simplilearn.com/tutorials/machine-learning-tutorial/types-of-machine-learning"
   ]
  }
 ],
 "metadata": {
  "language_info": {
   "name": "python"
  },
  "orig_nbformat": 4
 },
 "nbformat": 4,
 "nbformat_minor": 2
}
