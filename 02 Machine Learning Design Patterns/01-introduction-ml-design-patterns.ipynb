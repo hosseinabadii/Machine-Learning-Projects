{
 "cells": [
  {
   "cell_type": "markdown",
   "metadata": {},
   "source": [
    "# Machine Learning Design Patterns"
   ]
  },
  {
   "attachments": {},
   "cell_type": "markdown",
   "metadata": {},
   "source": [
    "In engineering disciplines, design patterns capture best practices and\n",
    "solutions to commonly occurring problems. They codify the knowledge\n",
    "and experience of experts into advice that all practitioners can follow.\n",
    "\n",
    "Each pattern describes a problem which occurs over and over again in\n",
    "our environment, and then describes the core of the solution to that\n",
    "problem, in such a way that you can use this solution a million times\n",
    "over, without ever doing it the same way twice."
   ]
  },
  {
   "attachments": {},
   "cell_type": "markdown",
   "metadata": {},
   "source": [
    "## #1: Data Representation Design Patterns\n",
    "\n",
    "1. Hashed Feature\n",
    "2. Embeddings\n",
    "3. Feature Cross\n",
    "4. Multimodal Input"
   ]
  },
  {
   "attachments": {},
   "cell_type": "markdown",
   "metadata": {},
   "source": [
    "## #2: Problem Representation Design Patterns\n",
    "\n",
    "1. Reframing\n",
    "2. Multilabel\n",
    "3. Ensembles\n",
    "4. Cascade\n",
    "5. Neutral Class\n",
    "6. Rebalancing"
   ]
  },
  {
   "attachments": {},
   "cell_type": "markdown",
   "metadata": {},
   "source": [
    "## #3: Model Training Design Patterns\n",
    "\n",
    "1. Useful Overfitting\n",
    "2. Checkpoints\n",
    "3. Transfer Learning\n",
    "4. Distribution Strategy\n",
    "5. Hyperparameter Tuning"
   ]
  },
  {
   "attachments": {},
   "cell_type": "markdown",
   "metadata": {},
   "source": [
    "## #4: Resilient Serving Design Patterns\n",
    "\n",
    "1. Stateless Serving Function\n",
    "2. Batch Serving\n",
    "3. Continued Model Evaluations\n",
    "4. Two-Phase Prediction\n",
    "5. Keyed Prediction"
   ]
  },
  {
   "attachments": {},
   "cell_type": "markdown",
   "metadata": {},
   "source": [
    "## #5: Reproducibility Design Patterns\n",
    "\n",
    "1. Transform\n",
    "2. Repeatable Splitting\n",
    "3. Bridged Schema\n",
    "4. Windowed Inference\n",
    "5. Workflow Pipeline\n",
    "6. Feature Store\n",
    "7. Model Versioning"
   ]
  },
  {
   "attachments": {},
   "cell_type": "markdown",
   "metadata": {},
   "source": [
    "## #6 Resposible AI Design Patterns\n",
    "\n",
    "1. Heuristic Benchmark\n",
    "2. Explainable Prediction\n",
    "3. Fairness Lens"
   ]
  }
 ],
 "metadata": {
  "language_info": {
   "name": "python"
  },
  "orig_nbformat": 4
 },
 "nbformat": 4,
 "nbformat_minor": 2
}
