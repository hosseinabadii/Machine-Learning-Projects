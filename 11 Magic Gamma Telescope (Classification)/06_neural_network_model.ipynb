{
 "cells": [
  {
   "cell_type": "code",
   "execution_count": 1,
   "metadata": {},
   "outputs": [],
   "source": [
    "import numpy as np\n",
    "import pandas as pd\n",
    "import matplotlib.pyplot as plt\n",
    "from sklearn.preprocessing import StandardScaler\n",
    "from imblearn.over_sampling import RandomOverSampler"
   ]
  },
  {
   "cell_type": "markdown",
   "metadata": {},
   "source": [
    "## Loading and Preprocessing the dataset"
   ]
  },
  {
   "cell_type": "code",
   "execution_count": 2,
   "metadata": {},
   "outputs": [
    {
     "data": {
      "text/html": [
       "<div>\n",
       "<style scoped>\n",
       "    .dataframe tbody tr th:only-of-type {\n",
       "        vertical-align: middle;\n",
       "    }\n",
       "\n",
       "    .dataframe tbody tr th {\n",
       "        vertical-align: top;\n",
       "    }\n",
       "\n",
       "    .dataframe thead th {\n",
       "        text-align: right;\n",
       "    }\n",
       "</style>\n",
       "<table border=\"1\" class=\"dataframe\">\n",
       "  <thead>\n",
       "    <tr style=\"text-align: right;\">\n",
       "      <th></th>\n",
       "      <th>fLength</th>\n",
       "      <th>fWidth</th>\n",
       "      <th>fSize</th>\n",
       "      <th>fConc</th>\n",
       "      <th>fConc1</th>\n",
       "      <th>fAsym</th>\n",
       "      <th>fM3Long</th>\n",
       "      <th>fM3Trans</th>\n",
       "      <th>fAlpha</th>\n",
       "      <th>fDist</th>\n",
       "      <th>class</th>\n",
       "    </tr>\n",
       "  </thead>\n",
       "  <tbody>\n",
       "    <tr>\n",
       "      <th>0</th>\n",
       "      <td>28.7967</td>\n",
       "      <td>16.0021</td>\n",
       "      <td>2.6449</td>\n",
       "      <td>0.3918</td>\n",
       "      <td>0.1982</td>\n",
       "      <td>27.7004</td>\n",
       "      <td>22.0110</td>\n",
       "      <td>-8.2027</td>\n",
       "      <td>40.0920</td>\n",
       "      <td>81.8828</td>\n",
       "      <td>1</td>\n",
       "    </tr>\n",
       "    <tr>\n",
       "      <th>1</th>\n",
       "      <td>31.6036</td>\n",
       "      <td>11.7235</td>\n",
       "      <td>2.5185</td>\n",
       "      <td>0.5303</td>\n",
       "      <td>0.3773</td>\n",
       "      <td>26.2722</td>\n",
       "      <td>23.8238</td>\n",
       "      <td>-9.9574</td>\n",
       "      <td>6.3609</td>\n",
       "      <td>205.2610</td>\n",
       "      <td>1</td>\n",
       "    </tr>\n",
       "    <tr>\n",
       "      <th>2</th>\n",
       "      <td>162.0520</td>\n",
       "      <td>136.0310</td>\n",
       "      <td>4.0612</td>\n",
       "      <td>0.0374</td>\n",
       "      <td>0.0187</td>\n",
       "      <td>116.7410</td>\n",
       "      <td>-64.8580</td>\n",
       "      <td>-45.2160</td>\n",
       "      <td>76.9600</td>\n",
       "      <td>256.7880</td>\n",
       "      <td>1</td>\n",
       "    </tr>\n",
       "    <tr>\n",
       "      <th>3</th>\n",
       "      <td>23.8172</td>\n",
       "      <td>9.5728</td>\n",
       "      <td>2.3385</td>\n",
       "      <td>0.6147</td>\n",
       "      <td>0.3922</td>\n",
       "      <td>27.2107</td>\n",
       "      <td>-6.4633</td>\n",
       "      <td>-7.1513</td>\n",
       "      <td>10.4490</td>\n",
       "      <td>116.7370</td>\n",
       "      <td>1</td>\n",
       "    </tr>\n",
       "    <tr>\n",
       "      <th>4</th>\n",
       "      <td>75.1362</td>\n",
       "      <td>30.9205</td>\n",
       "      <td>3.1611</td>\n",
       "      <td>0.3168</td>\n",
       "      <td>0.1832</td>\n",
       "      <td>-5.5277</td>\n",
       "      <td>28.5525</td>\n",
       "      <td>21.8393</td>\n",
       "      <td>4.6480</td>\n",
       "      <td>356.4620</td>\n",
       "      <td>1</td>\n",
       "    </tr>\n",
       "  </tbody>\n",
       "</table>\n",
       "</div>"
      ],
      "text/plain": [
       "    fLength    fWidth   fSize   fConc  fConc1     fAsym  fM3Long  fM3Trans  \\\n",
       "0   28.7967   16.0021  2.6449  0.3918  0.1982   27.7004  22.0110   -8.2027   \n",
       "1   31.6036   11.7235  2.5185  0.5303  0.3773   26.2722  23.8238   -9.9574   \n",
       "2  162.0520  136.0310  4.0612  0.0374  0.0187  116.7410 -64.8580  -45.2160   \n",
       "3   23.8172    9.5728  2.3385  0.6147  0.3922   27.2107  -6.4633   -7.1513   \n",
       "4   75.1362   30.9205  3.1611  0.3168  0.1832   -5.5277  28.5525   21.8393   \n",
       "\n",
       "    fAlpha     fDist  class  \n",
       "0  40.0920   81.8828      1  \n",
       "1   6.3609  205.2610      1  \n",
       "2  76.9600  256.7880      1  \n",
       "3  10.4490  116.7370      1  \n",
       "4   4.6480  356.4620      1  "
      ]
     },
     "execution_count": 2,
     "metadata": {},
     "output_type": "execute_result"
    }
   ],
   "source": [
    "cols = [\"fLength\", \"fWidth\", \"fSize\", \"fConc\", \"fConc1\", \"fAsym\", \"fM3Long\", \"fM3Trans\", \"fAlpha\", \"fDist\", \"class\"]\n",
    "df = pd.read_csv(\"data/magic04.data\", names=cols)\n",
    "df[\"class\"] = (df[\"class\"] == \"g\").astype(\"int8\")\n",
    "df.head()"
   ]
  },
  {
   "cell_type": "markdown",
   "metadata": {},
   "source": [
    "## Train, validation, test datasets"
   ]
  },
  {
   "cell_type": "code",
   "execution_count": 3,
   "metadata": {},
   "outputs": [],
   "source": [
    "train, valid, test = np.split(df.sample(frac=1), [int(0.6*len(df)), int(0.8*len(df))])"
   ]
  },
  {
   "cell_type": "markdown",
   "metadata": {},
   "source": [
    "## Scaling and Over Sampling the dataset"
   ]
  },
  {
   "cell_type": "code",
   "execution_count": 4,
   "metadata": {},
   "outputs": [],
   "source": [
    "def scale_dataset(dataframe: pd.DataFrame, oversample=False):\n",
    "    X = dataframe[dataframe.columns[:-1]].values\n",
    "    y = dataframe[dataframe.columns[-1]].values\n",
    "\n",
    "    scaler = StandardScaler()\n",
    "    X = scaler.fit_transform(X)\n",
    "\n",
    "    if oversample:\n",
    "        ros = RandomOverSampler()\n",
    "        X, y = ros.fit_resample(X, y)\n",
    "\n",
    "    data = np.hstack((X, y.reshape(-1, 1)))\n",
    "\n",
    "    return data, X, y"
   ]
  },
  {
   "cell_type": "code",
   "execution_count": 5,
   "metadata": {},
   "outputs": [],
   "source": [
    "train, X_train, y_train = scale_dataset(train, oversample=True)\n",
    "valid, X_valid, y_valid = scale_dataset(valid, oversample=False)\n",
    "test, X_test, y_test = scale_dataset(test, oversample=False)"
   ]
  },
  {
   "cell_type": "code",
   "execution_count": 6,
   "metadata": {},
   "outputs": [
    {
     "name": "stdout",
     "output_type": "stream",
     "text": [
      "0    7355\n",
      "1    7355\n",
      "dtype: int64\n",
      "1    2482\n",
      "0    1322\n",
      "dtype: int64\n",
      "1    2495\n",
      "0    1309\n",
      "dtype: int64\n"
     ]
    }
   ],
   "source": [
    "print(pd.Series(y_train).value_counts())\n",
    "print(pd.Series(y_valid).value_counts())\n",
    "print(pd.Series(y_test).value_counts())"
   ]
  },
  {
   "cell_type": "markdown",
   "metadata": {},
   "source": [
    "## Neural Network (NN)"
   ]
  },
  {
   "cell_type": "code",
   "execution_count": 7,
   "metadata": {},
   "outputs": [
    {
     "name": "stderr",
     "output_type": "stream",
     "text": [
      "2023-09-11 15:57:21.522188: I tensorflow/core/platform/cpu_feature_guard.cc:182] This TensorFlow binary is optimized to use available CPU instructions in performance-critical operations.\n",
      "To enable the following instructions: SSE4.1 SSE4.2 AVX AVX2 FMA, in other operations, rebuild TensorFlow with the appropriate compiler flags.\n"
     ]
    }
   ],
   "source": [
    "import tensorflow as tf\n",
    "from sklearn.metrics import classification_report"
   ]
  },
  {
   "cell_type": "code",
   "execution_count": 8,
   "metadata": {},
   "outputs": [
    {
     "name": "stdout",
     "output_type": "stream",
     "text": [
      "Model: \"sequential\"\n",
      "_________________________________________________________________\n",
      " Layer (type)                Output Shape              Param #   \n",
      "=================================================================\n",
      " dense (Dense)               (None, 32)                352       \n",
      "                                                                 \n",
      " dense_1 (Dense)             (None, 32)                1056      \n",
      "                                                                 \n",
      " dense_2 (Dense)             (None, 1)                 33        \n",
      "                                                                 \n",
      "=================================================================\n",
      "Total params: 1,441\n",
      "Trainable params: 1,441\n",
      "Non-trainable params: 0\n",
      "_________________________________________________________________\n"
     ]
    },
    {
     "name": "stderr",
     "output_type": "stream",
     "text": [
      "2023-09-11 15:57:23.888621: I tensorflow/core/common_runtime/process_util.cc:146] Creating new thread pool with default inter op setting: 2. Tune using inter_op_parallelism_threads for best performance.\n"
     ]
    }
   ],
   "source": [
    "nn_model = tf.keras.Sequential([\n",
    "    tf.keras.layers.Input(shape=(10, )),\n",
    "    tf.keras.layers.Dense(32, activation=\"relu\"),\n",
    "    tf.keras.layers.Dense(32, activation=\"relu\"),\n",
    "    tf.keras.layers.Dense(1, activation=\"sigmoid\"),\n",
    "])\n",
    "\n",
    "nn_model.compile(\n",
    "    optimizer=\"Adam\",\n",
    "    loss = \"binary_crossentropy\",\n",
    "    metrics=\"accuracy\",\n",
    ")\n",
    "\n",
    "nn_model.summary()"
   ]
  },
  {
   "cell_type": "code",
   "execution_count": 9,
   "metadata": {},
   "outputs": [
    {
     "name": "stdout",
     "output_type": "stream",
     "text": [
      "Epoch 1/50\n",
      "368/368 [==============================] - 5s 10ms/step - loss: 0.4572 - accuracy: 0.8026 - val_loss: 0.5702 - val_accuracy: 0.6798\n",
      "Epoch 2/50\n",
      "368/368 [==============================] - 4s 12ms/step - loss: 0.3664 - accuracy: 0.8453 - val_loss: 0.5410 - val_accuracy: 0.7220\n",
      "Epoch 3/50\n",
      "368/368 [==============================] - 4s 12ms/step - loss: 0.3512 - accuracy: 0.8529 - val_loss: 0.5118 - val_accuracy: 0.7481\n",
      "Epoch 4/50\n",
      "368/368 [==============================] - 4s 10ms/step - loss: 0.3426 - accuracy: 0.8572 - val_loss: 0.4877 - val_accuracy: 0.7600\n",
      "Epoch 5/50\n",
      "368/368 [==============================] - 4s 12ms/step - loss: 0.3380 - accuracy: 0.8583 - val_loss: 0.5552 - val_accuracy: 0.7135\n",
      "Epoch 6/50\n",
      "368/368 [==============================] - 5s 14ms/step - loss: 0.3325 - accuracy: 0.8620 - val_loss: 0.5164 - val_accuracy: 0.7240\n",
      "Epoch 7/50\n",
      "368/368 [==============================] - 5s 12ms/step - loss: 0.3296 - accuracy: 0.8633 - val_loss: 0.5274 - val_accuracy: 0.7264\n",
      "Epoch 8/50\n",
      "368/368 [==============================] - 3s 8ms/step - loss: 0.3273 - accuracy: 0.8634 - val_loss: 0.5508 - val_accuracy: 0.7056\n",
      "Epoch 9/50\n",
      "368/368 [==============================] - 4s 12ms/step - loss: 0.3239 - accuracy: 0.8672 - val_loss: 0.5233 - val_accuracy: 0.7254\n",
      "Epoch 10/50\n",
      "368/368 [==============================] - 4s 12ms/step - loss: 0.3210 - accuracy: 0.8643 - val_loss: 0.4958 - val_accuracy: 0.7447\n",
      "Epoch 11/50\n",
      "368/368 [==============================] - 5s 13ms/step - loss: 0.3183 - accuracy: 0.8664 - val_loss: 0.5043 - val_accuracy: 0.7308\n",
      "Epoch 12/50\n",
      "368/368 [==============================] - 4s 11ms/step - loss: 0.3169 - accuracy: 0.8685 - val_loss: 0.5277 - val_accuracy: 0.7216\n",
      "Epoch 13/50\n",
      "368/368 [==============================] - 4s 12ms/step - loss: 0.3141 - accuracy: 0.8673 - val_loss: 0.4683 - val_accuracy: 0.7512\n",
      "Epoch 14/50\n",
      "368/368 [==============================] - 4s 11ms/step - loss: 0.3125 - accuracy: 0.8694 - val_loss: 0.4090 - val_accuracy: 0.7760\n",
      "Epoch 15/50\n",
      "368/368 [==============================] - 5s 14ms/step - loss: 0.3113 - accuracy: 0.8689 - val_loss: 0.4898 - val_accuracy: 0.7593\n",
      "Epoch 16/50\n",
      "368/368 [==============================] - 3s 8ms/step - loss: 0.3100 - accuracy: 0.8715 - val_loss: 0.5106 - val_accuracy: 0.7424\n",
      "Epoch 17/50\n",
      "368/368 [==============================] - 4s 12ms/step - loss: 0.3075 - accuracy: 0.8701 - val_loss: 0.4340 - val_accuracy: 0.7797\n",
      "Epoch 18/50\n",
      "368/368 [==============================] - 5s 13ms/step - loss: 0.3064 - accuracy: 0.8711 - val_loss: 0.4519 - val_accuracy: 0.7604\n",
      "Epoch 19/50\n",
      "368/368 [==============================] - 4s 10ms/step - loss: 0.3051 - accuracy: 0.8696 - val_loss: 0.4592 - val_accuracy: 0.7471\n",
      "Epoch 20/50\n",
      "368/368 [==============================] - 5s 12ms/step - loss: 0.3029 - accuracy: 0.8714 - val_loss: 0.4433 - val_accuracy: 0.7675\n",
      "Epoch 21/50\n",
      "368/368 [==============================] - 4s 11ms/step - loss: 0.3032 - accuracy: 0.8725 - val_loss: 0.4384 - val_accuracy: 0.7614\n",
      "Epoch 22/50\n",
      "368/368 [==============================] - 3s 9ms/step - loss: 0.3009 - accuracy: 0.8718 - val_loss: 0.4524 - val_accuracy: 0.7587\n",
      "Epoch 23/50\n",
      "368/368 [==============================] - 3s 7ms/step - loss: 0.3002 - accuracy: 0.8720 - val_loss: 0.5263 - val_accuracy: 0.7233\n",
      "Epoch 24/50\n",
      "368/368 [==============================] - 2s 6ms/step - loss: 0.2987 - accuracy: 0.8721 - val_loss: 0.4267 - val_accuracy: 0.7753\n",
      "Epoch 25/50\n",
      "368/368 [==============================] - 2s 4ms/step - loss: 0.2982 - accuracy: 0.8744 - val_loss: 0.4354 - val_accuracy: 0.7716\n",
      "Epoch 26/50\n",
      "368/368 [==============================] - 3s 8ms/step - loss: 0.2982 - accuracy: 0.8741 - val_loss: 0.4536 - val_accuracy: 0.7488\n",
      "Epoch 27/50\n",
      "368/368 [==============================] - 4s 12ms/step - loss: 0.2971 - accuracy: 0.8734 - val_loss: 0.4945 - val_accuracy: 0.7386\n",
      "Epoch 28/50\n",
      "368/368 [==============================] - 2s 5ms/step - loss: 0.2963 - accuracy: 0.8741 - val_loss: 0.4882 - val_accuracy: 0.7349\n",
      "Epoch 29/50\n",
      "368/368 [==============================] - 1s 4ms/step - loss: 0.2956 - accuracy: 0.8742 - val_loss: 0.4123 - val_accuracy: 0.7808\n",
      "Epoch 30/50\n",
      "368/368 [==============================] - 2s 6ms/step - loss: 0.2947 - accuracy: 0.8740 - val_loss: 0.4407 - val_accuracy: 0.7726\n",
      "Epoch 31/50\n",
      "368/368 [==============================] - 2s 6ms/step - loss: 0.2937 - accuracy: 0.8747 - val_loss: 0.4034 - val_accuracy: 0.7882\n",
      "Epoch 32/50\n",
      "368/368 [==============================] - 3s 8ms/step - loss: 0.2928 - accuracy: 0.8753 - val_loss: 0.4646 - val_accuracy: 0.7488\n",
      "Epoch 33/50\n",
      "368/368 [==============================] - 2s 6ms/step - loss: 0.2918 - accuracy: 0.8761 - val_loss: 0.4766 - val_accuracy: 0.7403\n",
      "Epoch 34/50\n",
      "368/368 [==============================] - 3s 7ms/step - loss: 0.2921 - accuracy: 0.8755 - val_loss: 0.4469 - val_accuracy: 0.7597\n",
      "Epoch 35/50\n",
      "368/368 [==============================] - 2s 6ms/step - loss: 0.2906 - accuracy: 0.8745 - val_loss: 0.4115 - val_accuracy: 0.7899\n",
      "Epoch 36/50\n",
      "368/368 [==============================] - 3s 9ms/step - loss: 0.2897 - accuracy: 0.8751 - val_loss: 0.3872 - val_accuracy: 0.7944\n",
      "Epoch 37/50\n",
      "368/368 [==============================] - 3s 8ms/step - loss: 0.2895 - accuracy: 0.8761 - val_loss: 0.4109 - val_accuracy: 0.7869\n",
      "Epoch 38/50\n",
      "368/368 [==============================] - 3s 7ms/step - loss: 0.2884 - accuracy: 0.8775 - val_loss: 0.4754 - val_accuracy: 0.7468\n",
      "Epoch 39/50\n",
      "368/368 [==============================] - 2s 6ms/step - loss: 0.2882 - accuracy: 0.8757 - val_loss: 0.4646 - val_accuracy: 0.7655\n",
      "Epoch 40/50\n",
      "368/368 [==============================] - 2s 6ms/step - loss: 0.2869 - accuracy: 0.8770 - val_loss: 0.4612 - val_accuracy: 0.7502\n",
      "Epoch 41/50\n",
      "368/368 [==============================] - 2s 6ms/step - loss: 0.2860 - accuracy: 0.8785 - val_loss: 0.4209 - val_accuracy: 0.7821\n",
      "Epoch 42/50\n",
      "368/368 [==============================] - 3s 7ms/step - loss: 0.2866 - accuracy: 0.8779 - val_loss: 0.4196 - val_accuracy: 0.7845\n",
      "Epoch 43/50\n",
      "368/368 [==============================] - 3s 7ms/step - loss: 0.2846 - accuracy: 0.8798 - val_loss: 0.4551 - val_accuracy: 0.7570\n",
      "Epoch 44/50\n",
      "368/368 [==============================] - 3s 8ms/step - loss: 0.2840 - accuracy: 0.8805 - val_loss: 0.4148 - val_accuracy: 0.7876\n",
      "Epoch 45/50\n",
      "368/368 [==============================] - 2s 5ms/step - loss: 0.2841 - accuracy: 0.8796 - val_loss: 0.4687 - val_accuracy: 0.7542\n",
      "Epoch 46/50\n",
      "368/368 [==============================] - 3s 9ms/step - loss: 0.2836 - accuracy: 0.8792 - val_loss: 0.4150 - val_accuracy: 0.7757\n",
      "Epoch 47/50\n",
      "368/368 [==============================] - 2s 5ms/step - loss: 0.2828 - accuracy: 0.8799 - val_loss: 0.4105 - val_accuracy: 0.7825\n",
      "Epoch 48/50\n",
      "368/368 [==============================] - 3s 7ms/step - loss: 0.2822 - accuracy: 0.8793 - val_loss: 0.4208 - val_accuracy: 0.7797\n",
      "Epoch 49/50\n",
      "368/368 [==============================] - 2s 5ms/step - loss: 0.2812 - accuracy: 0.8818 - val_loss: 0.4689 - val_accuracy: 0.7512\n",
      "Epoch 50/50\n",
      "368/368 [==============================] - 3s 9ms/step - loss: 0.2798 - accuracy: 0.8827 - val_loss: 0.3972 - val_accuracy: 0.8008\n"
     ]
    }
   ],
   "source": [
    "history = nn_model.fit(\n",
    "    X_train, y_train,\n",
    "    epochs=50,\n",
    "    batch_size=32,\n",
    "    validation_split=0.2\n",
    ")"
   ]
  },
  {
   "cell_type": "markdown",
   "metadata": {},
   "source": [
    "## Plotting the loss and accuracy"
   ]
  },
  {
   "cell_type": "code",
   "execution_count": 10,
   "metadata": {},
   "outputs": [
    {
     "data": {
      "image/png": "[encoded data removed]",
      "text/plain": [
       "<Figure size 1000x400 with 2 Axes>"
      ]
     },
     "metadata": {},
     "output_type": "display_data"
    }
   ],
   "source": [
    "def plot_history(history):\n",
    "    _, (ax1, ax2) = plt.subplots(1, 2, figsize=(10, 4))\n",
    "\n",
    "    ax1.plot(history.history[\"loss\"], label=\"loss\")\n",
    "    ax1.plot(history.history['val_loss'], label=\"val_loss\")\n",
    "    ax1.set_xlabel(\"Epoch\")\n",
    "    ax1.set_ylabel(\"Binary CrossEntropy\")\n",
    "    ax1.legend()\n",
    "    ax1.grid(True)\n",
    "\n",
    "    ax2.plot(history.history[\"accuracy\"], label=\"accuracy\")\n",
    "    ax2.plot(history.history['val_accuracy'], label=\"val_accuracy\")\n",
    "    ax2.set_xlabel(\"Epoch\")\n",
    "    ax2.set_ylabel(\"Accuracy\")\n",
    "    ax2.legend()\n",
    "    ax2.grid(True)\n",
    "    plt.show()\n",
    "\n",
    "plot_history(history)"
   ]
  },
  {
   "cell_type": "markdown",
   "metadata": {},
   "source": [
    "## Evaluationg the model"
   ]
  },
  {
   "cell_type": "code",
   "execution_count": 11,
   "metadata": {},
   "outputs": [
    {
     "name": "stdout",
     "output_type": "stream",
     "text": [
      "              precision    recall  f1-score   support\n",
      "\n",
      "           0       0.84      0.78      0.81      1309\n",
      "           1       0.89      0.92      0.91      2495\n",
      "\n",
      "    accuracy                           0.87      3804\n",
      "   macro avg       0.86      0.85      0.86      3804\n",
      "weighted avg       0.87      0.87      0.87      3804\n",
      "\n"
     ]
    }
   ],
   "source": [
    "y_pred = nn_model.predict(X_test, verbose=0)\n",
    "y_pred = (y_pred > 0.5).astype(\"int\").reshape(-1, )\n",
    "print(classification_report(y_test, y_pred))"
   ]
  }
 ],
 "metadata": {
  "kernelspec": {
   "display_name": "py310",
   "language": "python",
   "name": "python3"
  },
  "language_info": {
   "codemirror_mode": {
    "name": "ipython",
    "version": 3
   },
   "file_extension": ".py",
   "mimetype": "text/x-python",
   "name": "python",
   "nbconvert_exporter": "python",
   "pygments_lexer": "ipython3",
   "version": "3.10.12"
  },
  "orig_nbformat": 4
 },
 "nbformat": 4,
 "nbformat_minor": 2
}
