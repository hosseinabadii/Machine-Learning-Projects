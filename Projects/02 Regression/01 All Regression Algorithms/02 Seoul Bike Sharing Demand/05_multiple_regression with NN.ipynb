{
 "cells": [
  {
   "cell_type": "code",
   "execution_count": 5,
   "metadata": {},
   "outputs": [],
   "source": [
    "import numpy as np\n",
    "import pandas as pd\n",
    "import matplotlib.pyplot as plt\n",
    "import tensorflow as tf"
   ]
  },
  {
   "cell_type": "markdown",
   "metadata": {},
   "source": [
    "## Loading and preprocessing Dataset"
   ]
  },
  {
   "cell_type": "code",
   "execution_count": 6,
   "metadata": {},
   "outputs": [
    {
     "data": {
      "text/html": [
       "<div>\n",
       "<style scoped>\n",
       "    .dataframe tbody tr th:only-of-type {\n",
       "        vertical-align: middle;\n",
       "    }\n",
       "\n",
       "    .dataframe tbody tr th {\n",
       "        vertical-align: top;\n",
       "    }\n",
       "\n",
       "    .dataframe thead th {\n",
       "        text-align: right;\n",
       "    }\n",
       "</style>\n",
       "<table border=\"1\" class=\"dataframe\">\n",
       "  <thead>\n",
       "    <tr style=\"text-align: right;\">\n",
       "      <th></th>\n",
       "      <th>bike_count</th>\n",
       "      <th>temp</th>\n",
       "      <th>humidity</th>\n",
       "      <th>dew_pt_temp</th>\n",
       "      <th>radiation</th>\n",
       "      <th>rain</th>\n",
       "      <th>snow</th>\n",
       "    </tr>\n",
       "  </thead>\n",
       "  <tbody>\n",
       "    <tr>\n",
       "      <th>12</th>\n",
       "      <td>449</td>\n",
       "      <td>1.7</td>\n",
       "      <td>23</td>\n",
       "      <td>-17.2</td>\n",
       "      <td>1.11</td>\n",
       "      <td>0.0</td>\n",
       "      <td>0.0</td>\n",
       "    </tr>\n",
       "    <tr>\n",
       "      <th>36</th>\n",
       "      <td>479</td>\n",
       "      <td>4.3</td>\n",
       "      <td>41</td>\n",
       "      <td>-7.8</td>\n",
       "      <td>1.09</td>\n",
       "      <td>0.0</td>\n",
       "      <td>0.0</td>\n",
       "    </tr>\n",
       "    <tr>\n",
       "      <th>60</th>\n",
       "      <td>333</td>\n",
       "      <td>5.8</td>\n",
       "      <td>85</td>\n",
       "      <td>3.4</td>\n",
       "      <td>0.43</td>\n",
       "      <td>0.0</td>\n",
       "      <td>0.0</td>\n",
       "    </tr>\n",
       "    <tr>\n",
       "      <th>84</th>\n",
       "      <td>393</td>\n",
       "      <td>-0.3</td>\n",
       "      <td>38</td>\n",
       "      <td>-12.9</td>\n",
       "      <td>1.11</td>\n",
       "      <td>0.0</td>\n",
       "      <td>0.0</td>\n",
       "    </tr>\n",
       "    <tr>\n",
       "      <th>108</th>\n",
       "      <td>321</td>\n",
       "      <td>-2.3</td>\n",
       "      <td>25</td>\n",
       "      <td>-19.7</td>\n",
       "      <td>0.00</td>\n",
       "      <td>0.0</td>\n",
       "      <td>0.0</td>\n",
       "    </tr>\n",
       "  </tbody>\n",
       "</table>\n",
       "</div>"
      ],
      "text/plain": [
       "     bike_count  temp  humidity  dew_pt_temp  radiation  rain  snow\n",
       "12          449   1.7        23        -17.2       1.11   0.0   0.0\n",
       "36          479   4.3        41         -7.8       1.09   0.0   0.0\n",
       "60          333   5.8        85          3.4       0.43   0.0   0.0\n",
       "84          393  -0.3        38        -12.9       1.11   0.0   0.0\n",
       "108         321  -2.3        25        -19.7       0.00   0.0   0.0"
      ]
     },
     "execution_count": 6,
     "metadata": {},
     "output_type": "execute_result"
    }
   ],
   "source": [
    "df = pd.read_csv(\"data/SeoulBikeData.csv\")\n",
    "df = df.drop([\"Date\", \"Holiday\", \"Seasons\"], axis=1)\n",
    "cols = [\n",
    "    \"bike_count\", \"hour\", \"temp\",\n",
    "    \"humidity\",\"wind\", \"visibility\",\n",
    "    \"dew_pt_temp\", \"radiation\", \"rain\",\n",
    "    \"snow\", \"functional\",\n",
    "]\n",
    "df.columns = cols\n",
    "df[\"functional\"] = (df[\"functional\"] == \"Yes\").astype(int)\n",
    "df = df[df[\"hour\"] == 12]\n",
    "df = df.drop(\"hour\", axis=1)\n",
    "df = df.drop([\"wind\", \"visibility\", \"functional\"], axis=1)\n",
    "df.head()"
   ]
  },
  {
   "cell_type": "markdown",
   "metadata": {},
   "source": [
    "## Train, Test, Valid Split"
   ]
  },
  {
   "cell_type": "code",
   "execution_count": 7,
   "metadata": {},
   "outputs": [
    {
     "name": "stdout",
     "output_type": "stream",
     "text": [
      "(219, 7)\n",
      "(73, 7)\n",
      "(73, 7)\n"
     ]
    }
   ],
   "source": [
    "train, valid, test = np.split(df.sample(frac=1), [int(0.6*len(df)), int(0.8*len(df))])\n",
    "\n",
    "def get_xy(dataframe: pd.DataFrame, y_label, x_labels=None):\n",
    "    dataframe = dataframe.copy()\n",
    "    if x_labels is None:\n",
    "        X = dataframe[[c for c in dataframe.columns if c != y_label]].values\n",
    "    else:\n",
    "        if len(x_labels) == 1:\n",
    "            X = dataframe[x_labels[0]].values.reshape(-1, 1)\n",
    "        else:\n",
    "            X = dataframe[x_labels].values\n",
    "\n",
    "    y = dataframe[y_label].values.reshape(-1, 1)\n",
    "    data = np.hstack((X, y))\n",
    "\n",
    "    return data, X, y\n",
    "\n",
    "print(train.shape)\n",
    "print(valid.shape)\n",
    "print(test.shape)"
   ]
  },
  {
   "cell_type": "markdown",
   "metadata": {},
   "source": [
    "## Multiple Regression with Neural Network"
   ]
  },
  {
   "cell_type": "code",
   "execution_count": 8,
   "metadata": {},
   "outputs": [
    {
     "name": "stdout",
     "output_type": "stream",
     "text": [
      "(219, 6)\n",
      "(219, 1)\n"
     ]
    }
   ],
   "source": [
    "_, X_train_all, y_train_all = get_xy(train, \"bike_count\", x_labels=df.columns[1:])\n",
    "_, X_valid_all, y_valid_all = get_xy(valid, \"bike_count\", x_labels=df.columns[1:])\n",
    "_, X_test_all, y_test_all = get_xy(test, \"bike_count\", x_labels=df.columns[1:])\n",
    "print(X_train_all.shape)\n",
    "print(y_train_all.shape)"
   ]
  },
  {
   "cell_type": "code",
   "execution_count": 9,
   "metadata": {},
   "outputs": [
    {
     "name": "stderr",
     "output_type": "stream",
     "text": [
      "2023-09-11 14:45:40.260280: I tensorflow/core/common_runtime/process_util.cc:146] Creating new thread pool with default inter op setting: 2. Tune using inter_op_parallelism_threads for best performance.\n"
     ]
    }
   ],
   "source": [
    "all_normalizer = tf.keras.layers.Normalization(input_shape=(6, ), axis=-1)\n",
    "all_normalizer.adapt(X_train_all)"
   ]
  },
  {
   "cell_type": "code",
   "execution_count": 10,
   "metadata": {},
   "outputs": [],
   "source": [
    "nn_model = tf.keras.Sequential([\n",
    "    all_normalizer,\n",
    "    tf.keras.layers.Dense(32, activation=\"relu\"),\n",
    "    tf.keras.layers.Dense(32, activation=\"relu\"),\n",
    "    tf.keras.layers.Dense(1, activation=\"relu\"),\n",
    "])\n",
    "\n",
    "nn_model.compile(\n",
    "    optimizer=tf.keras.optimizers.Adam(learning_rate=0.001),\n",
    "    loss=\"mean_squared_error\",\n",
    ")"
   ]
  },
  {
   "cell_type": "code",
   "execution_count": 11,
   "metadata": {},
   "outputs": [
    {
     "name": "stdout",
     "output_type": "stream",
     "text": [
      "Epoch 1/100\n",
      "7/7 [==============================] - 1s 88ms/step - loss: 619703.5000 - val_loss: 779070.1875\n",
      "Epoch 2/100\n",
      "7/7 [==============================] - 0s 53ms/step - loss: 619435.6875 - val_loss: 778746.4375\n",
      "Epoch 3/100\n",
      "7/7 [==============================] - 0s 53ms/step - loss: 619142.3125 - val_loss: 778379.0625\n",
      "Epoch 4/100\n",
      "7/7 [==============================] - 0s 32ms/step - loss: 618792.5625 - val_loss: 777951.9375\n",
      "Epoch 5/100\n",
      "7/7 [==============================] - 0s 26ms/step - loss: 618372.1875 - val_loss: 777436.3750\n",
      "Epoch 6/100\n",
      "7/7 [==============================] - 0s 45ms/step - loss: 617861.6875 - val_loss: 776796.5000\n",
      "Epoch 7/100\n",
      "7/7 [==============================] - 0s 34ms/step - loss: 617250.5000 - val_loss: 776005.5000\n",
      "Epoch 8/100\n",
      "7/7 [==============================] - 0s 23ms/step - loss: 616498.1875 - val_loss: 775052.6875\n",
      "Epoch 9/100\n",
      "7/7 [==============================] - 0s 49ms/step - loss: 615618.0625 - val_loss: 773905.5625\n",
      "Epoch 10/100\n",
      "7/7 [==============================] - 0s 30ms/step - loss: 614552.1250 - val_loss: 772546.7500\n",
      "Epoch 11/100\n",
      "7/7 [==============================] - 0s 47ms/step - loss: 613296.2500 - val_loss: 770932.5625\n",
      "Epoch 12/100\n",
      "7/7 [==============================] - 0s 70ms/step - loss: 611772.4375 - val_loss: 769058.5000\n",
      "Epoch 13/100\n",
      "7/7 [==============================] - 0s 24ms/step - loss: 610077.9375 - val_loss: 766781.5000\n",
      "Epoch 14/100\n",
      "7/7 [==============================] - 0s 41ms/step - loss: 608034.9375 - val_loss: 764102.1875\n",
      "Epoch 15/100\n",
      "7/7 [==============================] - 0s 29ms/step - loss: 605589.8750 - val_loss: 760987.6875\n",
      "Epoch 16/100\n",
      "7/7 [==============================] - 0s 23ms/step - loss: 602816.4375 - val_loss: 757354.0625\n",
      "Epoch 17/100\n",
      "7/7 [==============================] - 0s 16ms/step - loss: 599548.8750 - val_loss: 753241.9375\n",
      "Epoch 18/100\n",
      "7/7 [==============================] - 0s 53ms/step - loss: 595946.6250 - val_loss: 748549.3750\n",
      "Epoch 19/100\n",
      "7/7 [==============================] - 0s 65ms/step - loss: 591878.8750 - val_loss: 743277.6250\n",
      "Epoch 20/100\n",
      "7/7 [==============================] - 0s 44ms/step - loss: 587210.7500 - val_loss: 737462.0000\n",
      "Epoch 21/100\n",
      "7/7 [==============================] - 0s 41ms/step - loss: 582123.5625 - val_loss: 730956.1875\n",
      "Epoch 22/100\n",
      "7/7 [==============================] - 0s 47ms/step - loss: 576500.2500 - val_loss: 723741.3125\n",
      "Epoch 23/100\n",
      "7/7 [==============================] - 0s 60ms/step - loss: 570241.7500 - val_loss: 715851.1875\n",
      "Epoch 24/100\n",
      "7/7 [==============================] - 0s 42ms/step - loss: 563698.6875 - val_loss: 707103.1875\n",
      "Epoch 25/100\n",
      "7/7 [==============================] - 0s 61ms/step - loss: 556212.6250 - val_loss: 697735.8125\n",
      "Epoch 26/100\n",
      "7/7 [==============================] - 0s 39ms/step - loss: 548282.3125 - val_loss: 687579.7500\n",
      "Epoch 27/100\n",
      "7/7 [==============================] - 0s 42ms/step - loss: 540015.3125 - val_loss: 676473.1250\n",
      "Epoch 28/100\n",
      "7/7 [==============================] - 0s 37ms/step - loss: 530555.4375 - val_loss: 664831.1250\n",
      "Epoch 29/100\n",
      "7/7 [==============================] - 0s 36ms/step - loss: 520710.5625 - val_loss: 652448.6875\n",
      "Epoch 30/100\n",
      "7/7 [==============================] - 0s 39ms/step - loss: 510512.1562 - val_loss: 639074.0000\n",
      "Epoch 31/100\n",
      "7/7 [==============================] - 0s 29ms/step - loss: 499651.5000 - val_loss: 624801.8125\n",
      "Epoch 32/100\n",
      "7/7 [==============================] - 0s 52ms/step - loss: 487776.5000 - val_loss: 610076.2500\n",
      "Epoch 33/100\n",
      "7/7 [==============================] - 0s 44ms/step - loss: 475583.1250 - val_loss: 594537.8125\n",
      "Epoch 34/100\n",
      "7/7 [==============================] - 0s 48ms/step - loss: 462480.2812 - val_loss: 578555.5625\n",
      "Epoch 35/100\n",
      "7/7 [==============================] - 0s 49ms/step - loss: 449746.8750 - val_loss: 561471.5000\n",
      "Epoch 36/100\n",
      "7/7 [==============================] - 0s 49ms/step - loss: 435852.1250 - val_loss: 543959.8750\n",
      "Epoch 37/100\n",
      "7/7 [==============================] - 0s 48ms/step - loss: 421246.4062 - val_loss: 526297.6875\n",
      "Epoch 38/100\n",
      "7/7 [==============================] - 0s 36ms/step - loss: 407005.1250 - val_loss: 507961.3125\n",
      "Epoch 39/100\n",
      "7/7 [==============================] - 0s 36ms/step - loss: 392242.1875 - val_loss: 489308.8125\n",
      "Epoch 40/100\n",
      "7/7 [==============================] - 0s 42ms/step - loss: 377176.6250 - val_loss: 470470.0938\n",
      "Epoch 41/100\n",
      "7/7 [==============================] - 0s 41ms/step - loss: 361834.4062 - val_loss: 451654.5000\n",
      "Epoch 42/100\n",
      "7/7 [==============================] - 0s 39ms/step - loss: 347025.0938 - val_loss: 432538.3438\n",
      "Epoch 43/100\n",
      "7/7 [==============================] - 0s 46ms/step - loss: 331155.8750 - val_loss: 413985.4375\n",
      "Epoch 44/100\n",
      "7/7 [==============================] - 0s 17ms/step - loss: 316468.7188 - val_loss: 395209.0938\n",
      "Epoch 45/100\n",
      "7/7 [==============================] - 0s 48ms/step - loss: 301723.4375 - val_loss: 376702.7500\n",
      "Epoch 46/100\n",
      "7/7 [==============================] - 0s 31ms/step - loss: 287351.2812 - val_loss: 358570.5312\n",
      "Epoch 47/100\n",
      "7/7 [==============================] - 0s 46ms/step - loss: 272728.1562 - val_loss: 341518.7812\n",
      "Epoch 48/100\n",
      "7/7 [==============================] - 0s 46ms/step - loss: 259633.9688 - val_loss: 324597.3750\n",
      "Epoch 49/100\n",
      "7/7 [==============================] - 0s 55ms/step - loss: 246669.2031 - val_loss: 308453.4375\n",
      "Epoch 50/100\n",
      "7/7 [==============================] - 0s 34ms/step - loss: 233390.9375 - val_loss: 293785.3750\n",
      "Epoch 51/100\n",
      "7/7 [==============================] - 0s 43ms/step - loss: 221989.4062 - val_loss: 279605.2500\n",
      "Epoch 52/100\n",
      "7/7 [==============================] - 0s 50ms/step - loss: 211128.3594 - val_loss: 266136.6562\n",
      "Epoch 53/100\n",
      "7/7 [==============================] - 0s 48ms/step - loss: 200675.0156 - val_loss: 253732.3906\n",
      "Epoch 54/100\n",
      "7/7 [==============================] - 0s 57ms/step - loss: 191132.7188 - val_loss: 242361.9688\n",
      "Epoch 55/100\n",
      "7/7 [==============================] - 0s 58ms/step - loss: 182376.7812 - val_loss: 231965.0156\n",
      "Epoch 56/100\n",
      "7/7 [==============================] - 0s 49ms/step - loss: 174520.3125 - val_loss: 222525.2031\n",
      "Epoch 57/100\n",
      "7/7 [==============================] - 0s 45ms/step - loss: 167421.7344 - val_loss: 214065.6406\n",
      "Epoch 58/100\n",
      "7/7 [==============================] - 0s 42ms/step - loss: 161117.1562 - val_loss: 206459.8594\n",
      "Epoch 59/100\n",
      "7/7 [==============================] - 0s 49ms/step - loss: 155373.6094 - val_loss: 199846.6562\n",
      "Epoch 60/100\n",
      "7/7 [==============================] - 0s 37ms/step - loss: 150477.9062 - val_loss: 194059.3281\n",
      "Epoch 61/100\n",
      "7/7 [==============================] - 0s 51ms/step - loss: 145881.7188 - val_loss: 189221.5938\n",
      "Epoch 62/100\n",
      "7/7 [==============================] - 0s 50ms/step - loss: 142390.5781 - val_loss: 184871.6562\n",
      "Epoch 63/100\n",
      "7/7 [==============================] - 0s 55ms/step - loss: 138921.3906 - val_loss: 181172.2656\n",
      "Epoch 64/100\n",
      "7/7 [==============================] - 0s 52ms/step - loss: 136150.8750 - val_loss: 177917.6406\n",
      "Epoch 65/100\n",
      "7/7 [==============================] - 0s 38ms/step - loss: 133833.3125 - val_loss: 175022.5938\n",
      "Epoch 66/100\n",
      "7/7 [==============================] - 0s 54ms/step - loss: 131631.3906 - val_loss: 172623.0469\n",
      "Epoch 67/100\n",
      "7/7 [==============================] - 0s 35ms/step - loss: 129743.6016 - val_loss: 170509.2812\n",
      "Epoch 68/100\n",
      "7/7 [==============================] - 0s 44ms/step - loss: 128217.2031 - val_loss: 168603.6250\n",
      "Epoch 69/100\n",
      "7/7 [==============================] - 0s 44ms/step - loss: 126670.8125 - val_loss: 167008.6719\n",
      "Epoch 70/100\n",
      "7/7 [==============================] - 0s 53ms/step - loss: 125465.5312 - val_loss: 165531.1562\n",
      "Epoch 71/100\n",
      "7/7 [==============================] - 0s 62ms/step - loss: 124236.9766 - val_loss: 164266.6094\n",
      "Epoch 72/100\n",
      "7/7 [==============================] - 0s 47ms/step - loss: 123290.8672 - val_loss: 163016.6562\n",
      "Epoch 73/100\n",
      "7/7 [==============================] - 0s 46ms/step - loss: 122296.8203 - val_loss: 161841.6094\n",
      "Epoch 74/100\n",
      "7/7 [==============================] - 0s 37ms/step - loss: 121502.0469 - val_loss: 160672.0938\n",
      "Epoch 75/100\n",
      "7/7 [==============================] - 0s 50ms/step - loss: 120613.0938 - val_loss: 159601.8594\n",
      "Epoch 76/100\n",
      "7/7 [==============================] - 0s 34ms/step - loss: 119821.6172 - val_loss: 158605.3906\n",
      "Epoch 77/100\n",
      "7/7 [==============================] - 0s 51ms/step - loss: 119126.4141 - val_loss: 157621.8594\n",
      "Epoch 78/100\n",
      "7/7 [==============================] - 0s 49ms/step - loss: 118341.3672 - val_loss: 156745.0469\n",
      "Epoch 79/100\n",
      "7/7 [==============================] - 0s 36ms/step - loss: 117671.2422 - val_loss: 155928.9375\n",
      "Epoch 80/100\n",
      "7/7 [==============================] - 0s 43ms/step - loss: 117052.4766 - val_loss: 155058.3750\n",
      "Epoch 81/100\n",
      "7/7 [==============================] - 0s 31ms/step - loss: 116390.1953 - val_loss: 154246.9688\n",
      "Epoch 82/100\n",
      "7/7 [==============================] - 0s 23ms/step - loss: 115753.9062 - val_loss: 153434.9531\n",
      "Epoch 83/100\n",
      "7/7 [==============================] - 0s 34ms/step - loss: 115154.7578 - val_loss: 152665.7500\n",
      "Epoch 84/100\n",
      "7/7 [==============================] - 0s 53ms/step - loss: 114610.3594 - val_loss: 151862.3125\n",
      "Epoch 85/100\n",
      "7/7 [==============================] - 0s 23ms/step - loss: 113976.9609 - val_loss: 151120.8438\n",
      "Epoch 86/100\n",
      "7/7 [==============================] - 0s 36ms/step - loss: 113452.9688 - val_loss: 150371.7969\n",
      "Epoch 87/100\n",
      "7/7 [==============================] - 0s 53ms/step - loss: 112839.5781 - val_loss: 149657.5000\n",
      "Epoch 88/100\n",
      "7/7 [==============================] - 0s 61ms/step - loss: 112277.8906 - val_loss: 148935.0312\n",
      "Epoch 89/100\n",
      "7/7 [==============================] - 0s 52ms/step - loss: 111758.6328 - val_loss: 148160.0469\n",
      "Epoch 90/100\n",
      "7/7 [==============================] - 0s 35ms/step - loss: 111273.0938 - val_loss: 147425.9062\n",
      "Epoch 91/100\n",
      "7/7 [==============================] - 0s 43ms/step - loss: 110669.7188 - val_loss: 146745.8125\n",
      "Epoch 92/100\n",
      "7/7 [==============================] - 0s 59ms/step - loss: 110137.3672 - val_loss: 146044.8281\n",
      "Epoch 93/100\n",
      "7/7 [==============================] - 0s 59ms/step - loss: 109601.2031 - val_loss: 145382.2500\n",
      "Epoch 94/100\n",
      "7/7 [==============================] - 0s 39ms/step - loss: 109147.7109 - val_loss: 144706.0625\n",
      "Epoch 95/100\n",
      "7/7 [==============================] - 0s 44ms/step - loss: 108562.9375 - val_loss: 144053.1719\n",
      "Epoch 96/100\n",
      "7/7 [==============================] - 0s 52ms/step - loss: 108049.8281 - val_loss: 143415.6875\n",
      "Epoch 97/100\n",
      "7/7 [==============================] - 0s 55ms/step - loss: 107675.8359 - val_loss: 142773.5781\n",
      "Epoch 98/100\n",
      "7/7 [==============================] - 0s 57ms/step - loss: 107120.2578 - val_loss: 142113.7812\n",
      "Epoch 99/100\n",
      "7/7 [==============================] - 0s 54ms/step - loss: 106624.4141 - val_loss: 141494.5469\n",
      "Epoch 100/100\n",
      "7/7 [==============================] - 0s 69ms/step - loss: 106116.3750 - val_loss: 140878.4844\n"
     ]
    }
   ],
   "source": [
    "history = nn_model.fit(\n",
    "    X_train_all, y_train_all,\n",
    "    epochs=100,\n",
    "    validation_data=(X_valid_all, y_valid_all),\n",
    ")"
   ]
  },
  {
   "cell_type": "code",
   "execution_count": 12,
   "metadata": {},
   "outputs": [],
   "source": [
    "def plot_loss(history):\n",
    "    plt.plot(history.history[\"loss\"], label=\"loss\")\n",
    "    plt.plot(history.history[\"val_loss\"], label=\"val_loss\")\n",
    "    plt.xlabel(\"Epoch\")\n",
    "    plt.ylabel(\"MSE\")\n",
    "    plt.legend()\n",
    "    plt.grid(True)\n",
    "    plt.show()"
   ]
  },
  {
   "cell_type": "code",
   "execution_count": 13,
   "metadata": {},
   "outputs": [
    {
     "data": {
      "image/png": "[encoded data removed]",
      "text/plain": [
       "<Figure size 640x480 with 1 Axes>"
      ]
     },
     "metadata": {},
     "output_type": "display_data"
    }
   ],
   "source": [
    "plot_loss(history)"
   ]
  },
  {
   "cell_type": "code",
   "execution_count": null,
   "metadata": {},
   "outputs": [],
   "source": [
    "y_pred = nn_model.predict(X_test_all)\n",
    "y_pred"
   ]
  },
  {
   "cell_type": "markdown",
   "metadata": {},
   "source": [
    "## Plot the predicted vs test values"
   ]
  },
  {
   "cell_type": "code",
   "execution_count": 16,
   "metadata": {},
   "outputs": [
    {
     "data": {
      "image/png": "[encoded data removed]",
      "text/plain": [
       "<Figure size 640x480 with 1 Axes>"
      ]
     },
     "metadata": {},
     "output_type": "display_data"
    }
   ],
   "source": [
    "ax = plt.axes(aspect=\"equal\")\n",
    "plt.scatter(y_test_all, y_pred, label=\"NN Preds\")\n",
    "plt.xlabel(\"Ture Values\")\n",
    "plt.ylabel(\"Predictions\")\n",
    "lims = [0, 1800]\n",
    "plt.xlim(lims)\n",
    "plt.ylim(lims)\n",
    "plt.plot(lims, lims, c=\"red\")\n",
    "plt.show()"
   ]
  }
 ],
 "metadata": {
  "kernelspec": {
   "display_name": "py310",
   "language": "python",
   "name": "python3"
  },
  "language_info": {
   "codemirror_mode": {
    "name": "ipython",
    "version": 3
   },
   "file_extension": ".py",
   "mimetype": "text/x-python",
   "name": "python",
   "nbconvert_exporter": "python",
   "pygments_lexer": "ipython3",
   "version": "3.10.12"
  },
  "orig_nbformat": 4
 },
 "nbformat": 4,
 "nbformat_minor": 2
}
