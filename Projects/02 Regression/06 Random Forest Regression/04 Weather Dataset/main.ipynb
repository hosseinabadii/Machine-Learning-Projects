{
 "cells": [
  {
   "cell_type": "markdown",
   "metadata": {},
   "source": [
    "# Predict Weather Dataset\n",
    "In this project, we will train a model to predict weather with machine learning. We will act as if we do not have access to the weather forecast. We have access to a century of historical averages of global temperatures, including global maximum temperatures, global minimum temperatures, and global land and ocean temperatures. Having all this, we know that this is a supervised regression machine learning problem.\n",
    "\n",
    "[Source link](https://thecleverprogrammer.com/2020/08/30/predict-weather-with-machine-learning/)"
   ]
  },
  {
   "cell_type": "markdown",
   "metadata": {},
   "source": [
    "## Importing libraries"
   ]
  },
  {
   "cell_type": "code",
   "execution_count": 1,
   "metadata": {},
   "outputs": [],
   "source": [
    "import pandas as pd\n",
    "import matplotlib.pyplot as plt\n",
    "import seaborn as sns"
   ]
  },
  {
   "cell_type": "markdown",
   "metadata": {},
   "source": [
    "## Loading the dataset"
   ]
  },
  {
   "cell_type": "code",
   "execution_count": 43,
   "metadata": {},
   "outputs": [
    {
     "data": {
      "text/html": [
       "<div>\n",
       "<style scoped>\n",
       "    .dataframe tbody tr th:only-of-type {\n",
       "        vertical-align: middle;\n",
       "    }\n",
       "\n",
       "    .dataframe tbody tr th {\n",
       "        vertical-align: top;\n",
       "    }\n",
       "\n",
       "    .dataframe thead th {\n",
       "        text-align: right;\n",
       "    }\n",
       "</style>\n",
       "<table border=\"1\" class=\"dataframe\">\n",
       "  <thead>\n",
       "    <tr style=\"text-align: right;\">\n",
       "      <th></th>\n",
       "      <th>dt</th>\n",
       "      <th>LandAverageTemperature</th>\n",
       "      <th>LandAverageTemperatureUncertainty</th>\n",
       "      <th>LandMaxTemperature</th>\n",
       "      <th>LandMaxTemperatureUncertainty</th>\n",
       "      <th>LandMinTemperature</th>\n",
       "      <th>LandMinTemperatureUncertainty</th>\n",
       "      <th>LandAndOceanAverageTemperature</th>\n",
       "      <th>LandAndOceanAverageTemperatureUncertainty</th>\n",
       "    </tr>\n",
       "  </thead>\n",
       "  <tbody>\n",
       "    <tr>\n",
       "      <th>0</th>\n",
       "      <td>1750-01-01</td>\n",
       "      <td>3.034</td>\n",
       "      <td>3.574</td>\n",
       "      <td>NaN</td>\n",
       "      <td>NaN</td>\n",
       "      <td>NaN</td>\n",
       "      <td>NaN</td>\n",
       "      <td>NaN</td>\n",
       "      <td>NaN</td>\n",
       "    </tr>\n",
       "    <tr>\n",
       "      <th>1</th>\n",
       "      <td>1750-02-01</td>\n",
       "      <td>3.083</td>\n",
       "      <td>3.702</td>\n",
       "      <td>NaN</td>\n",
       "      <td>NaN</td>\n",
       "      <td>NaN</td>\n",
       "      <td>NaN</td>\n",
       "      <td>NaN</td>\n",
       "      <td>NaN</td>\n",
       "    </tr>\n",
       "    <tr>\n",
       "      <th>2</th>\n",
       "      <td>1750-03-01</td>\n",
       "      <td>5.626</td>\n",
       "      <td>3.076</td>\n",
       "      <td>NaN</td>\n",
       "      <td>NaN</td>\n",
       "      <td>NaN</td>\n",
       "      <td>NaN</td>\n",
       "      <td>NaN</td>\n",
       "      <td>NaN</td>\n",
       "    </tr>\n",
       "    <tr>\n",
       "      <th>3</th>\n",
       "      <td>1750-04-01</td>\n",
       "      <td>8.490</td>\n",
       "      <td>2.451</td>\n",
       "      <td>NaN</td>\n",
       "      <td>NaN</td>\n",
       "      <td>NaN</td>\n",
       "      <td>NaN</td>\n",
       "      <td>NaN</td>\n",
       "      <td>NaN</td>\n",
       "    </tr>\n",
       "    <tr>\n",
       "      <th>4</th>\n",
       "      <td>1750-05-01</td>\n",
       "      <td>11.573</td>\n",
       "      <td>2.072</td>\n",
       "      <td>NaN</td>\n",
       "      <td>NaN</td>\n",
       "      <td>NaN</td>\n",
       "      <td>NaN</td>\n",
       "      <td>NaN</td>\n",
       "      <td>NaN</td>\n",
       "    </tr>\n",
       "  </tbody>\n",
       "</table>\n",
       "</div>"
      ],
      "text/plain": [
       "           dt  LandAverageTemperature  LandAverageTemperatureUncertainty  \\\n",
       "0  1750-01-01                   3.034                              3.574   \n",
       "1  1750-02-01                   3.083                              3.702   \n",
       "2  1750-03-01                   5.626                              3.076   \n",
       "3  1750-04-01                   8.490                              2.451   \n",
       "4  1750-05-01                  11.573                              2.072   \n",
       "\n",
       "   LandMaxTemperature  LandMaxTemperatureUncertainty  LandMinTemperature  \\\n",
       "0                 NaN                            NaN                 NaN   \n",
       "1                 NaN                            NaN                 NaN   \n",
       "2                 NaN                            NaN                 NaN   \n",
       "3                 NaN                            NaN                 NaN   \n",
       "4                 NaN                            NaN                 NaN   \n",
       "\n",
       "   LandMinTemperatureUncertainty  LandAndOceanAverageTemperature  \\\n",
       "0                            NaN                             NaN   \n",
       "1                            NaN                             NaN   \n",
       "2                            NaN                             NaN   \n",
       "3                            NaN                             NaN   \n",
       "4                            NaN                             NaN   \n",
       "\n",
       "   LandAndOceanAverageTemperatureUncertainty  \n",
       "0                                        NaN  \n",
       "1                                        NaN  \n",
       "2                                        NaN  \n",
       "3                                        NaN  \n",
       "4                                        NaN  "
      ]
     },
     "execution_count": 43,
     "metadata": {},
     "output_type": "execute_result"
    }
   ],
   "source": [
    "df = pd.read_csv(\"data/GlobalTemperatures.csv\")\n",
    "df.head()"
   ]
  },
  {
   "cell_type": "code",
   "execution_count": 44,
   "metadata": {},
   "outputs": [
    {
     "name": "stdout",
     "output_type": "stream",
     "text": [
      "<class 'pandas.core.frame.DataFrame'>\n",
      "RangeIndex: 3192 entries, 0 to 3191\n",
      "Data columns (total 9 columns):\n",
      " #   Column                                     Non-Null Count  Dtype  \n",
      "---  ------                                     --------------  -----  \n",
      " 0   dt                                         3192 non-null   object \n",
      " 1   LandAverageTemperature                     3180 non-null   float64\n",
      " 2   LandAverageTemperatureUncertainty          3180 non-null   float64\n",
      " 3   LandMaxTemperature                         1992 non-null   float64\n",
      " 4   LandMaxTemperatureUncertainty              1992 non-null   float64\n",
      " 5   LandMinTemperature                         1992 non-null   float64\n",
      " 6   LandMinTemperatureUncertainty              1992 non-null   float64\n",
      " 7   LandAndOceanAverageTemperature             1992 non-null   float64\n",
      " 8   LandAndOceanAverageTemperatureUncertainty  1992 non-null   float64\n",
      "dtypes: float64(8), object(1)\n",
      "memory usage: 224.6+ KB\n"
     ]
    }
   ],
   "source": [
    "df.info()"
   ]
  },
  {
   "cell_type": "code",
   "execution_count": 45,
   "metadata": {},
   "outputs": [
    {
     "data": {
      "text/plain": [
       "dt                                              0\n",
       "LandAverageTemperature                         12\n",
       "LandAverageTemperatureUncertainty              12\n",
       "LandMaxTemperature                           1200\n",
       "LandMaxTemperatureUncertainty                1200\n",
       "LandMinTemperature                           1200\n",
       "LandMinTemperatureUncertainty                1200\n",
       "LandAndOceanAverageTemperature               1200\n",
       "LandAndOceanAverageTemperatureUncertainty    1200\n",
       "dtype: int64"
      ]
     },
     "execution_count": 45,
     "metadata": {},
     "output_type": "execute_result"
    }
   ],
   "source": [
    "df.isnull().sum()"
   ]
  },
  {
   "cell_type": "markdown",
   "metadata": {},
   "source": [
    "## Preprocessing the data"
   ]
  },
  {
   "cell_type": "markdown",
   "metadata": {},
   "source": [
    "### Dropping rows with null values"
   ]
  },
  {
   "cell_type": "code",
   "execution_count": 46,
   "metadata": {},
   "outputs": [
    {
     "name": "stdout",
     "output_type": "stream",
     "text": [
      "<class 'pandas.core.frame.DataFrame'>\n",
      "Index: 1992 entries, 1200 to 3191\n",
      "Data columns (total 9 columns):\n",
      " #   Column                                     Non-Null Count  Dtype  \n",
      "---  ------                                     --------------  -----  \n",
      " 0   dt                                         1992 non-null   object \n",
      " 1   LandAverageTemperature                     1992 non-null   float64\n",
      " 2   LandAverageTemperatureUncertainty          1992 non-null   float64\n",
      " 3   LandMaxTemperature                         1992 non-null   float64\n",
      " 4   LandMaxTemperatureUncertainty              1992 non-null   float64\n",
      " 5   LandMinTemperature                         1992 non-null   float64\n",
      " 6   LandMinTemperatureUncertainty              1992 non-null   float64\n",
      " 7   LandAndOceanAverageTemperature             1992 non-null   float64\n",
      " 8   LandAndOceanAverageTemperatureUncertainty  1992 non-null   float64\n",
      "dtypes: float64(8), object(1)\n",
      "memory usage: 155.6+ KB\n"
     ]
    }
   ],
   "source": [
    "df = df.dropna()\n",
    "df.info()"
   ]
  },
  {
   "cell_type": "code",
   "execution_count": 47,
   "metadata": {},
   "outputs": [
    {
     "data": {
      "text/plain": [
       "dt                                           0\n",
       "LandAverageTemperature                       0\n",
       "LandAverageTemperatureUncertainty            0\n",
       "LandMaxTemperature                           0\n",
       "LandMaxTemperatureUncertainty                0\n",
       "LandMinTemperature                           0\n",
       "LandMinTemperatureUncertainty                0\n",
       "LandAndOceanAverageTemperature               0\n",
       "LandAndOceanAverageTemperatureUncertainty    0\n",
       "dtype: int64"
      ]
     },
     "execution_count": 47,
     "metadata": {},
     "output_type": "execute_result"
    }
   ],
   "source": [
    "df.isnull().sum()"
   ]
  },
  {
   "cell_type": "code",
   "execution_count": 48,
   "metadata": {},
   "outputs": [
    {
     "data": {
      "text/html": [
       "<div>\n",
       "<style scoped>\n",
       "    .dataframe tbody tr th:only-of-type {\n",
       "        vertical-align: middle;\n",
       "    }\n",
       "\n",
       "    .dataframe tbody tr th {\n",
       "        vertical-align: top;\n",
       "    }\n",
       "\n",
       "    .dataframe thead th {\n",
       "        text-align: right;\n",
       "    }\n",
       "</style>\n",
       "<table border=\"1\" class=\"dataframe\">\n",
       "  <thead>\n",
       "    <tr style=\"text-align: right;\">\n",
       "      <th></th>\n",
       "      <th>LandAverageTemperature</th>\n",
       "      <th>LandAverageTemperatureUncertainty</th>\n",
       "      <th>LandMaxTemperature</th>\n",
       "      <th>LandMaxTemperatureUncertainty</th>\n",
       "      <th>LandMinTemperature</th>\n",
       "      <th>LandMinTemperatureUncertainty</th>\n",
       "      <th>LandAndOceanAverageTemperature</th>\n",
       "      <th>LandAndOceanAverageTemperatureUncertainty</th>\n",
       "    </tr>\n",
       "  </thead>\n",
       "  <tbody>\n",
       "    <tr>\n",
       "      <th>count</th>\n",
       "      <td>1992.000000</td>\n",
       "      <td>1992.000000</td>\n",
       "      <td>1992.000000</td>\n",
       "      <td>1992.000000</td>\n",
       "      <td>1992.000000</td>\n",
       "      <td>1992.000000</td>\n",
       "      <td>1992.000000</td>\n",
       "      <td>1992.000000</td>\n",
       "    </tr>\n",
       "    <tr>\n",
       "      <th>mean</th>\n",
       "      <td>8.571583</td>\n",
       "      <td>0.276663</td>\n",
       "      <td>14.350601</td>\n",
       "      <td>0.479782</td>\n",
       "      <td>2.743595</td>\n",
       "      <td>0.431849</td>\n",
       "      <td>15.212566</td>\n",
       "      <td>0.128532</td>\n",
       "    </tr>\n",
       "    <tr>\n",
       "      <th>std</th>\n",
       "      <td>4.263193</td>\n",
       "      <td>0.224030</td>\n",
       "      <td>4.309579</td>\n",
       "      <td>0.583203</td>\n",
       "      <td>4.155835</td>\n",
       "      <td>0.445838</td>\n",
       "      <td>1.274093</td>\n",
       "      <td>0.073587</td>\n",
       "    </tr>\n",
       "    <tr>\n",
       "      <th>min</th>\n",
       "      <td>0.404000</td>\n",
       "      <td>0.034000</td>\n",
       "      <td>5.900000</td>\n",
       "      <td>0.044000</td>\n",
       "      <td>-5.407000</td>\n",
       "      <td>0.045000</td>\n",
       "      <td>12.475000</td>\n",
       "      <td>0.042000</td>\n",
       "    </tr>\n",
       "    <tr>\n",
       "      <th>25%</th>\n",
       "      <td>4.430000</td>\n",
       "      <td>0.099750</td>\n",
       "      <td>10.212000</td>\n",
       "      <td>0.142000</td>\n",
       "      <td>-1.334500</td>\n",
       "      <td>0.155000</td>\n",
       "      <td>14.047000</td>\n",
       "      <td>0.063000</td>\n",
       "    </tr>\n",
       "    <tr>\n",
       "      <th>50%</th>\n",
       "      <td>8.850500</td>\n",
       "      <td>0.230000</td>\n",
       "      <td>14.760000</td>\n",
       "      <td>0.252000</td>\n",
       "      <td>2.949500</td>\n",
       "      <td>0.279000</td>\n",
       "      <td>15.251000</td>\n",
       "      <td>0.122000</td>\n",
       "    </tr>\n",
       "    <tr>\n",
       "      <th>75%</th>\n",
       "      <td>12.858500</td>\n",
       "      <td>0.347250</td>\n",
       "      <td>18.451500</td>\n",
       "      <td>0.539000</td>\n",
       "      <td>6.778750</td>\n",
       "      <td>0.458250</td>\n",
       "      <td>16.396250</td>\n",
       "      <td>0.151000</td>\n",
       "    </tr>\n",
       "    <tr>\n",
       "      <th>max</th>\n",
       "      <td>15.482000</td>\n",
       "      <td>1.492000</td>\n",
       "      <td>21.320000</td>\n",
       "      <td>4.373000</td>\n",
       "      <td>9.715000</td>\n",
       "      <td>3.498000</td>\n",
       "      <td>17.611000</td>\n",
       "      <td>0.457000</td>\n",
       "    </tr>\n",
       "  </tbody>\n",
       "</table>\n",
       "</div>"
      ],
      "text/plain": [
       "       LandAverageTemperature  LandAverageTemperatureUncertainty  \\\n",
       "count             1992.000000                        1992.000000   \n",
       "mean                 8.571583                           0.276663   \n",
       "std                  4.263193                           0.224030   \n",
       "min                  0.404000                           0.034000   \n",
       "25%                  4.430000                           0.099750   \n",
       "50%                  8.850500                           0.230000   \n",
       "75%                 12.858500                           0.347250   \n",
       "max                 15.482000                           1.492000   \n",
       "\n",
       "       LandMaxTemperature  LandMaxTemperatureUncertainty  LandMinTemperature  \\\n",
       "count         1992.000000                    1992.000000         1992.000000   \n",
       "mean            14.350601                       0.479782            2.743595   \n",
       "std              4.309579                       0.583203            4.155835   \n",
       "min              5.900000                       0.044000           -5.407000   \n",
       "25%             10.212000                       0.142000           -1.334500   \n",
       "50%             14.760000                       0.252000            2.949500   \n",
       "75%             18.451500                       0.539000            6.778750   \n",
       "max             21.320000                       4.373000            9.715000   \n",
       "\n",
       "       LandMinTemperatureUncertainty  LandAndOceanAverageTemperature  \\\n",
       "count                    1992.000000                     1992.000000   \n",
       "mean                        0.431849                       15.212566   \n",
       "std                         0.445838                        1.274093   \n",
       "min                         0.045000                       12.475000   \n",
       "25%                         0.155000                       14.047000   \n",
       "50%                         0.279000                       15.251000   \n",
       "75%                         0.458250                       16.396250   \n",
       "max                         3.498000                       17.611000   \n",
       "\n",
       "       LandAndOceanAverageTemperatureUncertainty  \n",
       "count                                1992.000000  \n",
       "mean                                    0.128532  \n",
       "std                                     0.073587  \n",
       "min                                     0.042000  \n",
       "25%                                     0.063000  \n",
       "50%                                     0.122000  \n",
       "75%                                     0.151000  \n",
       "max                                     0.457000  "
      ]
     },
     "execution_count": 48,
     "metadata": {},
     "output_type": "execute_result"
    }
   ],
   "source": [
    "df.describe()"
   ]
  },
  {
   "cell_type": "markdown",
   "metadata": {},
   "source": [
    "### Dropping columns that have high cardinality\n",
    "High cardinality refers to columns whose values ​​are very rare or unique. Given the frequency of high cardinality data in most time-series datasets, we will solve this problem directly by completely removing these high cardinality columns from our dataset so as not to confuse our model in the future."
   ]
  },
  {
   "cell_type": "code",
   "execution_count": 49,
   "metadata": {},
   "outputs": [
    {
     "data": {
      "text/html": [
       "<div>\n",
       "<style scoped>\n",
       "    .dataframe tbody tr th:only-of-type {\n",
       "        vertical-align: middle;\n",
       "    }\n",
       "\n",
       "    .dataframe tbody tr th {\n",
       "        vertical-align: top;\n",
       "    }\n",
       "\n",
       "    .dataframe thead th {\n",
       "        text-align: right;\n",
       "    }\n",
       "</style>\n",
       "<table border=\"1\" class=\"dataframe\">\n",
       "  <thead>\n",
       "    <tr style=\"text-align: right;\">\n",
       "      <th></th>\n",
       "      <th>dt</th>\n",
       "      <th>LandAverageTemperature</th>\n",
       "      <th>LandMaxTemperature</th>\n",
       "      <th>LandMinTemperature</th>\n",
       "      <th>LandAndOceanAverageTemperature</th>\n",
       "    </tr>\n",
       "  </thead>\n",
       "  <tbody>\n",
       "    <tr>\n",
       "      <th>1200</th>\n",
       "      <td>1850-01-01</td>\n",
       "      <td>0.749</td>\n",
       "      <td>8.242</td>\n",
       "      <td>-3.206</td>\n",
       "      <td>12.833</td>\n",
       "    </tr>\n",
       "    <tr>\n",
       "      <th>1201</th>\n",
       "      <td>1850-02-01</td>\n",
       "      <td>3.071</td>\n",
       "      <td>9.970</td>\n",
       "      <td>-2.291</td>\n",
       "      <td>13.588</td>\n",
       "    </tr>\n",
       "    <tr>\n",
       "      <th>1202</th>\n",
       "      <td>1850-03-01</td>\n",
       "      <td>4.954</td>\n",
       "      <td>10.347</td>\n",
       "      <td>-1.905</td>\n",
       "      <td>14.043</td>\n",
       "    </tr>\n",
       "    <tr>\n",
       "      <th>1203</th>\n",
       "      <td>1850-04-01</td>\n",
       "      <td>7.217</td>\n",
       "      <td>12.934</td>\n",
       "      <td>1.018</td>\n",
       "      <td>14.667</td>\n",
       "    </tr>\n",
       "    <tr>\n",
       "      <th>1204</th>\n",
       "      <td>1850-05-01</td>\n",
       "      <td>10.004</td>\n",
       "      <td>15.655</td>\n",
       "      <td>3.811</td>\n",
       "      <td>15.507</td>\n",
       "    </tr>\n",
       "  </tbody>\n",
       "</table>\n",
       "</div>"
      ],
      "text/plain": [
       "              dt  LandAverageTemperature  LandMaxTemperature  \\\n",
       "1200  1850-01-01                   0.749               8.242   \n",
       "1201  1850-02-01                   3.071               9.970   \n",
       "1202  1850-03-01                   4.954              10.347   \n",
       "1203  1850-04-01                   7.217              12.934   \n",
       "1204  1850-05-01                  10.004              15.655   \n",
       "\n",
       "      LandMinTemperature  LandAndOceanAverageTemperature  \n",
       "1200              -3.206                          12.833  \n",
       "1201              -2.291                          13.588  \n",
       "1202              -1.905                          14.043  \n",
       "1203               1.018                          14.667  \n",
       "1204               3.811                          15.507  "
      ]
     },
     "execution_count": 49,
     "metadata": {},
     "output_type": "execute_result"
    }
   ],
   "source": [
    "df = df.drop(columns=[\n",
    "    \"LandAverageTemperatureUncertainty\",\n",
    "    \"LandMaxTemperatureUncertainty\",\n",
    "    \"LandMinTemperatureUncertainty\",\n",
    "    \"LandAndOceanAverageTemperatureUncertainty\",\n",
    "])\n",
    "df.head()"
   ]
  },
  {
   "cell_type": "markdown",
   "metadata": {},
   "source": [
    "### Convert the \"dt\" column to datetime object"
   ]
  },
  {
   "cell_type": "code",
   "execution_count": 50,
   "metadata": {},
   "outputs": [
    {
     "name": "stdout",
     "output_type": "stream",
     "text": [
      "<class 'pandas.core.frame.DataFrame'>\n",
      "Index: 1992 entries, 1200 to 3191\n",
      "Data columns (total 5 columns):\n",
      " #   Column                          Non-Null Count  Dtype         \n",
      "---  ------                          --------------  -----         \n",
      " 0   dt                              1992 non-null   datetime64[ns]\n",
      " 1   LandAverageTemperature          1992 non-null   float64       \n",
      " 2   LandMaxTemperature              1992 non-null   float64       \n",
      " 3   LandMinTemperature              1992 non-null   float64       \n",
      " 4   LandAndOceanAverageTemperature  1992 non-null   float64       \n",
      "dtypes: datetime64[ns](1), float64(4)\n",
      "memory usage: 93.4 KB\n"
     ]
    }
   ],
   "source": [
    "df[\"dt\"] = pd.to_datetime(df[\"dt\"])\n",
    "df.info()"
   ]
  },
  {
   "cell_type": "code",
   "execution_count": 51,
   "metadata": {},
   "outputs": [
    {
     "data": {
      "text/html": [
       "<div>\n",
       "<style scoped>\n",
       "    .dataframe tbody tr th:only-of-type {\n",
       "        vertical-align: middle;\n",
       "    }\n",
       "\n",
       "    .dataframe tbody tr th {\n",
       "        vertical-align: top;\n",
       "    }\n",
       "\n",
       "    .dataframe thead th {\n",
       "        text-align: right;\n",
       "    }\n",
       "</style>\n",
       "<table border=\"1\" class=\"dataframe\">\n",
       "  <thead>\n",
       "    <tr style=\"text-align: right;\">\n",
       "      <th></th>\n",
       "      <th>LandAverageTemperature</th>\n",
       "      <th>LandMaxTemperature</th>\n",
       "      <th>LandMinTemperature</th>\n",
       "      <th>LandAndOceanAverageTemperature</th>\n",
       "    </tr>\n",
       "    <tr>\n",
       "      <th>year</th>\n",
       "      <th></th>\n",
       "      <th></th>\n",
       "      <th></th>\n",
       "      <th></th>\n",
       "    </tr>\n",
       "  </thead>\n",
       "  <tbody>\n",
       "    <tr>\n",
       "      <th>1850</th>\n",
       "      <td>0.749</td>\n",
       "      <td>8.242</td>\n",
       "      <td>-3.206</td>\n",
       "      <td>12.833</td>\n",
       "    </tr>\n",
       "    <tr>\n",
       "      <th>1850</th>\n",
       "      <td>3.071</td>\n",
       "      <td>9.970</td>\n",
       "      <td>-2.291</td>\n",
       "      <td>13.588</td>\n",
       "    </tr>\n",
       "    <tr>\n",
       "      <th>1850</th>\n",
       "      <td>4.954</td>\n",
       "      <td>10.347</td>\n",
       "      <td>-1.905</td>\n",
       "      <td>14.043</td>\n",
       "    </tr>\n",
       "    <tr>\n",
       "      <th>1850</th>\n",
       "      <td>7.217</td>\n",
       "      <td>12.934</td>\n",
       "      <td>1.018</td>\n",
       "      <td>14.667</td>\n",
       "    </tr>\n",
       "    <tr>\n",
       "      <th>1850</th>\n",
       "      <td>10.004</td>\n",
       "      <td>15.655</td>\n",
       "      <td>3.811</td>\n",
       "      <td>15.507</td>\n",
       "    </tr>\n",
       "  </tbody>\n",
       "</table>\n",
       "</div>"
      ],
      "text/plain": [
       "      LandAverageTemperature  LandMaxTemperature  LandMinTemperature  \\\n",
       "year                                                                   \n",
       "1850                   0.749               8.242              -3.206   \n",
       "1850                   3.071               9.970              -2.291   \n",
       "1850                   4.954              10.347              -1.905   \n",
       "1850                   7.217              12.934               1.018   \n",
       "1850                  10.004              15.655               3.811   \n",
       "\n",
       "      LandAndOceanAverageTemperature  \n",
       "year                                  \n",
       "1850                          12.833  \n",
       "1850                          13.588  \n",
       "1850                          14.043  \n",
       "1850                          14.667  \n",
       "1850                          15.507  "
      ]
     },
     "execution_count": 51,
     "metadata": {},
     "output_type": "execute_result"
    }
   ],
   "source": [
    "df[\"year\"] = df[\"dt\"].dt.year\n",
    "df = df.drop(columns=[\"dt\"])\n",
    "df = df.set_index(\"year\")\n",
    "df.head()"
   ]
  },
  {
   "cell_type": "markdown",
   "metadata": {},
   "source": [
    "### Describing the dataset"
   ]
  },
  {
   "cell_type": "code",
   "execution_count": 58,
   "metadata": {},
   "outputs": [
    {
     "data": {
      "text/html": [
       "<div>\n",
       "<style scoped>\n",
       "    .dataframe tbody tr th:only-of-type {\n",
       "        vertical-align: middle;\n",
       "    }\n",
       "\n",
       "    .dataframe tbody tr th {\n",
       "        vertical-align: top;\n",
       "    }\n",
       "\n",
       "    .dataframe thead th {\n",
       "        text-align: right;\n",
       "    }\n",
       "</style>\n",
       "<table border=\"1\" class=\"dataframe\">\n",
       "  <thead>\n",
       "    <tr style=\"text-align: right;\">\n",
       "      <th></th>\n",
       "      <th>LandAverageTemperature</th>\n",
       "      <th>LandMaxTemperature</th>\n",
       "      <th>LandMinTemperature</th>\n",
       "      <th>LandAndOceanAverageTemperature</th>\n",
       "    </tr>\n",
       "  </thead>\n",
       "  <tbody>\n",
       "    <tr>\n",
       "      <th>count</th>\n",
       "      <td>1992.000000</td>\n",
       "      <td>1992.000000</td>\n",
       "      <td>1992.000000</td>\n",
       "      <td>1992.000000</td>\n",
       "    </tr>\n",
       "    <tr>\n",
       "      <th>mean</th>\n",
       "      <td>8.571583</td>\n",
       "      <td>14.350601</td>\n",
       "      <td>2.743595</td>\n",
       "      <td>15.212566</td>\n",
       "    </tr>\n",
       "    <tr>\n",
       "      <th>std</th>\n",
       "      <td>4.263193</td>\n",
       "      <td>4.309579</td>\n",
       "      <td>4.155835</td>\n",
       "      <td>1.274093</td>\n",
       "    </tr>\n",
       "    <tr>\n",
       "      <th>min</th>\n",
       "      <td>0.404000</td>\n",
       "      <td>5.900000</td>\n",
       "      <td>-5.407000</td>\n",
       "      <td>12.475000</td>\n",
       "    </tr>\n",
       "    <tr>\n",
       "      <th>25%</th>\n",
       "      <td>4.430000</td>\n",
       "      <td>10.212000</td>\n",
       "      <td>-1.334500</td>\n",
       "      <td>14.047000</td>\n",
       "    </tr>\n",
       "    <tr>\n",
       "      <th>50%</th>\n",
       "      <td>8.850500</td>\n",
       "      <td>14.760000</td>\n",
       "      <td>2.949500</td>\n",
       "      <td>15.251000</td>\n",
       "    </tr>\n",
       "    <tr>\n",
       "      <th>75%</th>\n",
       "      <td>12.858500</td>\n",
       "      <td>18.451500</td>\n",
       "      <td>6.778750</td>\n",
       "      <td>16.396250</td>\n",
       "    </tr>\n",
       "    <tr>\n",
       "      <th>max</th>\n",
       "      <td>15.482000</td>\n",
       "      <td>21.320000</td>\n",
       "      <td>9.715000</td>\n",
       "      <td>17.611000</td>\n",
       "    </tr>\n",
       "  </tbody>\n",
       "</table>\n",
       "</div>"
      ],
      "text/plain": [
       "       LandAverageTemperature  LandMaxTemperature  LandMinTemperature  \\\n",
       "count             1992.000000         1992.000000         1992.000000   \n",
       "mean                 8.571583           14.350601            2.743595   \n",
       "std                  4.263193            4.309579            4.155835   \n",
       "min                  0.404000            5.900000           -5.407000   \n",
       "25%                  4.430000           10.212000           -1.334500   \n",
       "50%                  8.850500           14.760000            2.949500   \n",
       "75%                 12.858500           18.451500            6.778750   \n",
       "max                 15.482000           21.320000            9.715000   \n",
       "\n",
       "       LandAndOceanAverageTemperature  \n",
       "count                     1992.000000  \n",
       "mean                        15.212566  \n",
       "std                          1.274093  \n",
       "min                         12.475000  \n",
       "25%                         14.047000  \n",
       "50%                         15.251000  \n",
       "75%                         16.396250  \n",
       "max                         17.611000  "
      ]
     },
     "execution_count": 58,
     "metadata": {},
     "output_type": "execute_result"
    }
   ],
   "source": [
    "df.describe()"
   ]
  },
  {
   "cell_type": "markdown",
   "metadata": {},
   "source": [
    "## Visualizing the dateset"
   ]
  },
  {
   "cell_type": "code",
   "execution_count": 52,
   "metadata": {},
   "outputs": [
    {
     "data": {
      "image/png": "[encoded data removed]",
      "text/plain": [
       "<Figure size 640x480 with 1 Axes>"
      ]
     },
     "metadata": {},
     "output_type": "display_data"
    }
   ],
   "source": [
    "mean_temp_year = df.groupby(by=\"year\")[\"LandAverageTemperature\"].mean()\n",
    "plt.scatter(x=mean_temp_year.index, y=mean_temp_year.values)\n",
    "plt.xlabel(\"Year\")\n",
    "plt.ylabel(\"Land Average Temperature (C)\")\n",
    "plt.title(\"Mean of Land Average Temperature\");"
   ]
  },
  {
   "cell_type": "code",
   "execution_count": 56,
   "metadata": {},
   "outputs": [
    {
     "data": {
      "image/png": "[encoded data removed]",
      "text/plain": [
       "<Figure size 640x480 with 2 Axes>"
      ]
     },
     "metadata": {},
     "output_type": "display_data"
    }
   ],
   "source": [
    "ax = sns.heatmap(df.corr(), cmap=\"Blues\")\n",
    "ax.invert_yaxis()"
   ]
  },
  {
   "cell_type": "markdown",
   "metadata": {},
   "source": [
    "## Matrix of features and labels"
   ]
  },
  {
   "cell_type": "code",
   "execution_count": 57,
   "metadata": {},
   "outputs": [
    {
     "name": "stdout",
     "output_type": "stream",
     "text": [
      "X (1992, 3)\n",
      "y (1992,)\n",
      "\n",
      "First five rows of X: \n",
      "[[ 0.749  8.242 -3.206]\n",
      " [ 3.071  9.97  -2.291]\n",
      " [ 4.954 10.347 -1.905]\n",
      " [ 7.217 12.934  1.018]\n",
      " [10.004 15.655  3.811]]\n",
      "\n",
      "First five rows of y: \n",
      "[12.833 13.588 14.043 14.667 15.507]\n"
     ]
    }
   ],
   "source": [
    "X = df.iloc[:, :-1].values\n",
    "y = df.iloc[:, -1].values\n",
    "\n",
    "print(f\"X {X.shape}\")\n",
    "print(f\"y {y.shape}\")\n",
    "\n",
    "print(f\"\\nFirst five rows of X: \\n{X[:5, :]}\")\n",
    "print(f\"\\nFirst five rows of y: \\n{y[:5]}\")"
   ]
  },
  {
   "cell_type": "markdown",
   "metadata": {},
   "source": [
    "## Splitting the dataset to train set and test set"
   ]
  },
  {
   "cell_type": "code",
   "execution_count": 59,
   "metadata": {},
   "outputs": [
    {
     "name": "stdout",
     "output_type": "stream",
     "text": [
      "X_train (1593, 3)\n",
      "X_test (399, 3)\n",
      "y_train (1593,)\n",
      "y_test (399,)\n"
     ]
    }
   ],
   "source": [
    "from sklearn.model_selection import train_test_split\n",
    "\n",
    "X_train, X_test, y_train, y_test = train_test_split(X, y, test_size=0.2, random_state=0)\n",
    "\n",
    "print(f\"X_train {X_train.shape}\")\n",
    "print(f\"X_test {X_test.shape}\")\n",
    "print(f\"y_train {y_train.shape}\")\n",
    "print(f\"y_test {y_test.shape}\")"
   ]
  },
  {
   "cell_type": "markdown",
   "metadata": {},
   "source": [
    "## Training the Random Forest Regression model"
   ]
  },
  {
   "cell_type": "code",
   "execution_count": 65,
   "metadata": {},
   "outputs": [
    {
     "data": {
      "text/html": [
       "<style>#sk-container-id-2 {color: black;background-color: white;}#sk-container-id-2 pre{padding: 0;}#sk-container-id-2 div.sk-toggleable {background-color: white;}#sk-container-id-2 label.sk-toggleable__label {cursor: pointer;display: block;width: 100%;margin-bottom: 0;padding: 0.3em;box-sizing: border-box;text-align: center;}#sk-container-id-2 label.sk-toggleable__label-arrow:before {content: \"▸\";float: left;margin-right: 0.25em;color: #696969;}#sk-container-id-2 label.sk-toggleable__label-arrow:hover:before {color: black;}#sk-container-id-2 div.sk-estimator:hover label.sk-toggleable__label-arrow:before {color: black;}#sk-container-id-2 div.sk-toggleable__content {max-height: 0;max-width: 0;overflow: hidden;text-align: left;background-color: #f0f8ff;}#sk-container-id-2 div.sk-toggleable__content pre {margin: 0.2em;color: black;border-radius: 0.25em;background-color: #f0f8ff;}#sk-container-id-2 input.sk-toggleable__control:checked~div.sk-toggleable__content {max-height: 200px;max-width: 100%;overflow: auto;}#sk-container-id-2 input.sk-toggleable__control:checked~label.sk-toggleable__label-arrow:before {content: \"▾\";}#sk-container-id-2 div.sk-estimator input.sk-toggleable__control:checked~label.sk-toggleable__label {background-color: #d4ebff;}#sk-container-id-2 div.sk-label input.sk-toggleable__control:checked~label.sk-toggleable__label {background-color: #d4ebff;}#sk-container-id-2 input.sk-hidden--visually {border: 0;clip: rect(1px 1px 1px 1px);clip: rect(1px, 1px, 1px, 1px);height: 1px;margin: -1px;overflow: hidden;padding: 0;position: absolute;width: 1px;}#sk-container-id-2 div.sk-estimator {font-family: monospace;background-color: #f0f8ff;border: 1px dotted black;border-radius: 0.25em;box-sizing: border-box;margin-bottom: 0.5em;}#sk-container-id-2 div.sk-estimator:hover {background-color: #d4ebff;}#sk-container-id-2 div.sk-parallel-item::after {content: \"\";width: 100%;border-bottom: 1px solid gray;flex-grow: 1;}#sk-container-id-2 div.sk-label:hover label.sk-toggleable__label {background-color: #d4ebff;}#sk-container-id-2 div.sk-serial::before {content: \"\";position: absolute;border-left: 1px solid gray;box-sizing: border-box;top: 0;bottom: 0;left: 50%;z-index: 0;}#sk-container-id-2 div.sk-serial {display: flex;flex-direction: column;align-items: center;background-color: white;padding-right: 0.2em;padding-left: 0.2em;position: relative;}#sk-container-id-2 div.sk-item {position: relative;z-index: 1;}#sk-container-id-2 div.sk-parallel {display: flex;align-items: stretch;justify-content: center;background-color: white;position: relative;}#sk-container-id-2 div.sk-item::before, #sk-container-id-2 div.sk-parallel-item::before {content: \"\";position: absolute;border-left: 1px solid gray;box-sizing: border-box;top: 0;bottom: 0;left: 50%;z-index: -1;}#sk-container-id-2 div.sk-parallel-item {display: flex;flex-direction: column;z-index: 1;position: relative;background-color: white;}#sk-container-id-2 div.sk-parallel-item:first-child::after {align-self: flex-end;width: 50%;}#sk-container-id-2 div.sk-parallel-item:last-child::after {align-self: flex-start;width: 50%;}#sk-container-id-2 div.sk-parallel-item:only-child::after {width: 0;}#sk-container-id-2 div.sk-dashed-wrapped {border: 1px dashed gray;margin: 0 0.4em 0.5em 0.4em;box-sizing: border-box;padding-bottom: 0.4em;background-color: white;}#sk-container-id-2 div.sk-label label {font-family: monospace;font-weight: bold;display: inline-block;line-height: 1.2em;}#sk-container-id-2 div.sk-label-container {text-align: center;}#sk-container-id-2 div.sk-container {/* jupyter's `normalize.less` sets `[hidden] { display: none; }` but bootstrap.min.css set `[hidden] { display: none !important; }` so we also need the `!important` here to be able to override the default hidden behavior on the sphinx rendered scikit-learn.org. See: https://github.com/scikit-learn/scikit-learn/issues/21755 */display: inline-block !important;position: relative;}#sk-container-id-2 div.sk-text-repr-fallback {display: none;}</style><div id=\"sk-container-id-2\" class=\"sk-top-container\"><div class=\"sk-text-repr-fallback\"><pre>RandomForestRegressor(random_state=77)</pre><b>In a Jupyter environment, please rerun this cell to show the HTML representation or trust the notebook. <br />On GitHub, the HTML representation is unable to render, please try loading this page with nbviewer.org.</b></div><div class=\"sk-container\" hidden><div class=\"sk-item\"><div class=\"sk-estimator sk-toggleable\"><input class=\"sk-toggleable__control sk-hidden--visually\" id=\"sk-estimator-id-2\" type=\"checkbox\" checked><label for=\"sk-estimator-id-2\" class=\"sk-toggleable__label sk-toggleable__label-arrow\">RandomForestRegressor</label><div class=\"sk-toggleable__content\"><pre>RandomForestRegressor(random_state=77)</pre></div></div></div></div></div>"
      ],
      "text/plain": [
       "RandomForestRegressor(random_state=77)"
      ]
     },
     "execution_count": 65,
     "metadata": {},
     "output_type": "execute_result"
    }
   ],
   "source": [
    "from sklearn.ensemble import RandomForestRegressor\n",
    "regressor = RandomForestRegressor(random_state=77)\n",
    "regressor.fit(X_train, y_train)"
   ]
  },
  {
   "cell_type": "markdown",
   "metadata": {},
   "source": [
    "## Predicting the test set"
   ]
  },
  {
   "cell_type": "code",
   "execution_count": 66,
   "metadata": {},
   "outputs": [
    {
     "data": {
      "text/html": [
       "<div>\n",
       "<style scoped>\n",
       "    .dataframe tbody tr th:only-of-type {\n",
       "        vertical-align: middle;\n",
       "    }\n",
       "\n",
       "    .dataframe tbody tr th {\n",
       "        vertical-align: top;\n",
       "    }\n",
       "\n",
       "    .dataframe thead th {\n",
       "        text-align: right;\n",
       "    }\n",
       "</style>\n",
       "<table border=\"1\" class=\"dataframe\">\n",
       "  <thead>\n",
       "    <tr style=\"text-align: right;\">\n",
       "      <th></th>\n",
       "      <th>Actual</th>\n",
       "      <th>Predict</th>\n",
       "    </tr>\n",
       "  </thead>\n",
       "  <tbody>\n",
       "    <tr>\n",
       "      <th>0</th>\n",
       "      <td>16.39</td>\n",
       "      <td>16.16</td>\n",
       "    </tr>\n",
       "    <tr>\n",
       "      <th>1</th>\n",
       "      <td>15.44</td>\n",
       "      <td>15.04</td>\n",
       "    </tr>\n",
       "    <tr>\n",
       "      <th>2</th>\n",
       "      <td>13.26</td>\n",
       "      <td>13.38</td>\n",
       "    </tr>\n",
       "    <tr>\n",
       "      <th>3</th>\n",
       "      <td>13.26</td>\n",
       "      <td>13.32</td>\n",
       "    </tr>\n",
       "    <tr>\n",
       "      <th>4</th>\n",
       "      <td>15.56</td>\n",
       "      <td>15.48</td>\n",
       "    </tr>\n",
       "    <tr>\n",
       "      <th>5</th>\n",
       "      <td>15.93</td>\n",
       "      <td>16.15</td>\n",
       "    </tr>\n",
       "    <tr>\n",
       "      <th>6</th>\n",
       "      <td>15.88</td>\n",
       "      <td>15.83</td>\n",
       "    </tr>\n",
       "    <tr>\n",
       "      <th>7</th>\n",
       "      <td>14.16</td>\n",
       "      <td>13.81</td>\n",
       "    </tr>\n",
       "    <tr>\n",
       "      <th>8</th>\n",
       "      <td>16.14</td>\n",
       "      <td>16.12</td>\n",
       "    </tr>\n",
       "    <tr>\n",
       "      <th>9</th>\n",
       "      <td>16.83</td>\n",
       "      <td>16.83</td>\n",
       "    </tr>\n",
       "  </tbody>\n",
       "</table>\n",
       "</div>"
      ],
      "text/plain": [
       "   Actual  Predict\n",
       "0   16.39    16.16\n",
       "1   15.44    15.04\n",
       "2   13.26    13.38\n",
       "3   13.26    13.32\n",
       "4   15.56    15.48\n",
       "5   15.93    16.15\n",
       "6   15.88    15.83\n",
       "7   14.16    13.81\n",
       "8   16.14    16.12\n",
       "9   16.83    16.83"
      ]
     },
     "execution_count": 66,
     "metadata": {},
     "output_type": "execute_result"
    }
   ],
   "source": [
    "y_pred = regressor.predict(X_test)\n",
    "pd.options.display.precision = 2\n",
    "result = pd.DataFrame({\"Actual\": y_test, \"Predict\" : y_pred})\n",
    "result.head(10)"
   ]
  },
  {
   "cell_type": "code",
   "execution_count": 67,
   "metadata": {},
   "outputs": [
    {
     "data": {
      "image/png": "[encoded data removed]",
      "text/plain": [
       "<Figure size 640x480 with 1 Axes>"
      ]
     },
     "metadata": {},
     "output_type": "display_data"
    }
   ],
   "source": [
    "symmetry_line = [y_test.min(), y_test.max()]\n",
    "\n",
    "sns.scatterplot(x=y_test, y=y_pred)\n",
    "plt.plot(symmetry_line, symmetry_line, color=\"red\", label=\"Symmetry line\")\n",
    "plt.xlabel(\"y test\")\n",
    "plt.ylabel(\"y prediction\")\n",
    "plt.title(\"Predictions vs Real truth\")\n",
    "plt.legend()\n",
    "plt.plot();"
   ]
  },
  {
   "cell_type": "markdown",
   "metadata": {},
   "source": [
    "## Plotting the residuals"
   ]
  },
  {
   "cell_type": "code",
   "execution_count": 68,
   "metadata": {},
   "outputs": [
    {
     "data": {
      "image/png": "[encoded data removed]",
      "text/plain": [
       "<Figure size 640x480 with 1 Axes>"
      ]
     },
     "metadata": {},
     "output_type": "display_data"
    }
   ],
   "source": [
    "sns.histplot((y_test-y_pred), bins=50, kde=True)\n",
    "plt.title(\"Distribution of residuals\");"
   ]
  },
  {
   "cell_type": "markdown",
   "metadata": {},
   "source": [
    "## Evaluating the model"
   ]
  },
  {
   "cell_type": "code",
   "execution_count": 69,
   "metadata": {},
   "outputs": [
    {
     "name": "stdout",
     "output_type": "stream",
     "text": [
      "The R2 score of the model: 0.981\n",
      "The mse of the model: 0.032\n"
     ]
    }
   ],
   "source": [
    "from sklearn.metrics import r2_score, mean_squared_error\n",
    "\n",
    "r2 = r2_score(y_test, y_pred)\n",
    "mse = mean_squared_error(y_test, y_pred)\n",
    "print(f\"The R2 score of the model: {r2:.3f}\")\n",
    "print(f\"The mse of the model: {mse:.3f}\")"
   ]
  }
 ],
 "metadata": {
  "kernelspec": {
   "display_name": "py310",
   "language": "python",
   "name": "python3"
  },
  "language_info": {
   "codemirror_mode": {
    "name": "ipython",
    "version": 3
   },
   "file_extension": ".py",
   "mimetype": "text/x-python",
   "name": "python",
   "nbconvert_exporter": "python",
   "pygments_lexer": "ipython3",
   "version": "3.10.13"
  },
  "orig_nbformat": 4
 },
 "nbformat": 4,
 "nbformat_minor": 2
}
