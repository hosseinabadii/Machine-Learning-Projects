{
 "cells": [
  {
   "cell_type": "markdown",
   "metadata": {},
   "source": [
    "Source : https://hands-on.cloud/implementation-of-eclat-algorithm-using-python/"
   ]
  },
  {
   "cell_type": "code",
   "execution_count": 1,
   "metadata": {},
   "outputs": [],
   "source": [
    "# %pip install pyECLAT\n",
    "import pandas as pd\n",
    "import plotly.express as px\n",
    "\n",
    "from pyECLAT import  Example2\n",
    "from pyECLAT import ECLAT"
   ]
  },
  {
   "cell_type": "code",
   "execution_count": 2,
   "metadata": {},
   "outputs": [
    {
     "data": {
      "text/html": [
       "<div>\n",
       "<style scoped>\n",
       "    .dataframe tbody tr th:only-of-type {\n",
       "        vertical-align: middle;\n",
       "    }\n",
       "\n",
       "    .dataframe tbody tr th {\n",
       "        vertical-align: top;\n",
       "    }\n",
       "\n",
       "    .dataframe thead th {\n",
       "        text-align: right;\n",
       "    }\n",
       "</style>\n",
       "<table border=\"1\" class=\"dataframe\">\n",
       "  <thead>\n",
       "    <tr style=\"text-align: right;\">\n",
       "      <th></th>\n",
       "      <th>0</th>\n",
       "      <th>1</th>\n",
       "      <th>2</th>\n",
       "      <th>3</th>\n",
       "      <th>4</th>\n",
       "      <th>5</th>\n",
       "      <th>6</th>\n",
       "    </tr>\n",
       "  </thead>\n",
       "  <tbody>\n",
       "    <tr>\n",
       "      <th>0</th>\n",
       "      <td>shrimp</td>\n",
       "      <td>almonds</td>\n",
       "      <td>avocado</td>\n",
       "      <td>vegetables mix</td>\n",
       "      <td>green grapes</td>\n",
       "      <td>whole weat flour</td>\n",
       "      <td>yams</td>\n",
       "    </tr>\n",
       "    <tr>\n",
       "      <th>1</th>\n",
       "      <td>burgers</td>\n",
       "      <td>meatballs</td>\n",
       "      <td>eggs</td>\n",
       "      <td>NaN</td>\n",
       "      <td>NaN</td>\n",
       "      <td>NaN</td>\n",
       "      <td>NaN</td>\n",
       "    </tr>\n",
       "    <tr>\n",
       "      <th>2</th>\n",
       "      <td>chutney</td>\n",
       "      <td>NaN</td>\n",
       "      <td>NaN</td>\n",
       "      <td>NaN</td>\n",
       "      <td>NaN</td>\n",
       "      <td>NaN</td>\n",
       "      <td>NaN</td>\n",
       "    </tr>\n",
       "    <tr>\n",
       "      <th>3</th>\n",
       "      <td>turkey</td>\n",
       "      <td>avocado</td>\n",
       "      <td>NaN</td>\n",
       "      <td>NaN</td>\n",
       "      <td>NaN</td>\n",
       "      <td>NaN</td>\n",
       "      <td>NaN</td>\n",
       "    </tr>\n",
       "    <tr>\n",
       "      <th>4</th>\n",
       "      <td>mineral water</td>\n",
       "      <td>milk</td>\n",
       "      <td>energy bar</td>\n",
       "      <td>whole wheat rice</td>\n",
       "      <td>green tea</td>\n",
       "      <td>NaN</td>\n",
       "      <td>NaN</td>\n",
       "    </tr>\n",
       "  </tbody>\n",
       "</table>\n",
       "</div>"
      ],
      "text/plain": [
       "               0          1           2                 3             4  \\\n",
       "0         shrimp    almonds     avocado    vegetables mix  green grapes   \n",
       "1        burgers  meatballs        eggs               NaN           NaN   \n",
       "2        chutney        NaN         NaN               NaN           NaN   \n",
       "3         turkey    avocado         NaN               NaN           NaN   \n",
       "4  mineral water       milk  energy bar  whole wheat rice     green tea   \n",
       "\n",
       "                  5     6  \n",
       "0  whole weat flour  yams  \n",
       "1               NaN   NaN  \n",
       "2               NaN   NaN  \n",
       "3               NaN   NaN  \n",
       "4               NaN   NaN  "
      ]
     },
     "execution_count": 2,
     "metadata": {},
     "output_type": "execute_result"
    }
   ],
   "source": [
    "dataset = Example2().get()\n",
    "dataset.head()\n",
    "# Each row represents a customer’s purchase at a supermarket in this dataset."
   ]
  },
  {
   "cell_type": "code",
   "execution_count": 3,
   "metadata": {},
   "outputs": [
    {
     "name": "stdout",
     "output_type": "stream",
     "text": [
      "<class 'pandas.core.frame.DataFrame'>\n",
      "RangeIndex: 3001 entries, 0 to 3000\n",
      "Data columns (total 7 columns):\n",
      " #   Column  Non-Null Count  Dtype \n",
      "---  ------  --------------  ----- \n",
      " 0   0       3001 non-null   object\n",
      " 1   1       2315 non-null   object\n",
      " 2   2       1774 non-null   object\n",
      " 3   3       1374 non-null   object\n",
      " 4   4       1048 non-null   object\n",
      " 5   5       775 non-null    object\n",
      " 6   6       581 non-null    object\n",
      "dtypes: object(7)\n",
      "memory usage: 164.2+ KB\n"
     ]
    }
   ],
   "source": [
    "dataset.info()"
   ]
  },
  {
   "cell_type": "markdown",
   "metadata": {},
   "source": [
    "## Using Eclat algorithm"
   ]
  },
  {
   "cell_type": "code",
   "execution_count": 19,
   "metadata": {},
   "outputs": [
    {
     "data": {
      "text/html": [
       "<div>\n",
       "<style scoped>\n",
       "    .dataframe tbody tr th:only-of-type {\n",
       "        vertical-align: middle;\n",
       "    }\n",
       "\n",
       "    .dataframe tbody tr th {\n",
       "        vertical-align: top;\n",
       "    }\n",
       "\n",
       "    .dataframe thead th {\n",
       "        text-align: right;\n",
       "    }\n",
       "</style>\n",
       "<table border=\"1\" class=\"dataframe\">\n",
       "  <thead>\n",
       "    <tr style=\"text-align: right;\">\n",
       "      <th></th>\n",
       "      <th>white wine</th>\n",
       "      <th>eggplant</th>\n",
       "      <th>bacon</th>\n",
       "      <th>ketchup</th>\n",
       "      <th>nonfat milk</th>\n",
       "      <th>muffins</th>\n",
       "      <th>green tea</th>\n",
       "      <th>milk</th>\n",
       "      <th>ground beef</th>\n",
       "      <th>tea</th>\n",
       "      <th>...</th>\n",
       "      <th>salt</th>\n",
       "      <th>chili</th>\n",
       "      <th>body spray</th>\n",
       "      <th>shrimp</th>\n",
       "      <th>sandwich</th>\n",
       "      <th>pickles</th>\n",
       "      <th>candy bars</th>\n",
       "      <th>soup</th>\n",
       "      <th>salad</th>\n",
       "      <th>black tea</th>\n",
       "    </tr>\n",
       "  </thead>\n",
       "  <tbody>\n",
       "    <tr>\n",
       "      <th>0</th>\n",
       "      <td>0</td>\n",
       "      <td>0</td>\n",
       "      <td>0</td>\n",
       "      <td>0</td>\n",
       "      <td>0</td>\n",
       "      <td>0</td>\n",
       "      <td>0</td>\n",
       "      <td>0</td>\n",
       "      <td>0</td>\n",
       "      <td>0</td>\n",
       "      <td>...</td>\n",
       "      <td>0</td>\n",
       "      <td>0</td>\n",
       "      <td>0</td>\n",
       "      <td>1</td>\n",
       "      <td>0</td>\n",
       "      <td>0</td>\n",
       "      <td>0</td>\n",
       "      <td>0</td>\n",
       "      <td>0</td>\n",
       "      <td>0</td>\n",
       "    </tr>\n",
       "    <tr>\n",
       "      <th>1</th>\n",
       "      <td>0</td>\n",
       "      <td>0</td>\n",
       "      <td>0</td>\n",
       "      <td>0</td>\n",
       "      <td>0</td>\n",
       "      <td>0</td>\n",
       "      <td>0</td>\n",
       "      <td>0</td>\n",
       "      <td>0</td>\n",
       "      <td>0</td>\n",
       "      <td>...</td>\n",
       "      <td>0</td>\n",
       "      <td>0</td>\n",
       "      <td>0</td>\n",
       "      <td>0</td>\n",
       "      <td>0</td>\n",
       "      <td>0</td>\n",
       "      <td>0</td>\n",
       "      <td>0</td>\n",
       "      <td>0</td>\n",
       "      <td>0</td>\n",
       "    </tr>\n",
       "    <tr>\n",
       "      <th>2</th>\n",
       "      <td>0</td>\n",
       "      <td>0</td>\n",
       "      <td>0</td>\n",
       "      <td>0</td>\n",
       "      <td>0</td>\n",
       "      <td>0</td>\n",
       "      <td>0</td>\n",
       "      <td>0</td>\n",
       "      <td>0</td>\n",
       "      <td>0</td>\n",
       "      <td>...</td>\n",
       "      <td>0</td>\n",
       "      <td>0</td>\n",
       "      <td>0</td>\n",
       "      <td>0</td>\n",
       "      <td>0</td>\n",
       "      <td>0</td>\n",
       "      <td>0</td>\n",
       "      <td>0</td>\n",
       "      <td>0</td>\n",
       "      <td>0</td>\n",
       "    </tr>\n",
       "    <tr>\n",
       "      <th>3</th>\n",
       "      <td>0</td>\n",
       "      <td>0</td>\n",
       "      <td>0</td>\n",
       "      <td>0</td>\n",
       "      <td>0</td>\n",
       "      <td>0</td>\n",
       "      <td>0</td>\n",
       "      <td>0</td>\n",
       "      <td>0</td>\n",
       "      <td>0</td>\n",
       "      <td>...</td>\n",
       "      <td>0</td>\n",
       "      <td>0</td>\n",
       "      <td>0</td>\n",
       "      <td>0</td>\n",
       "      <td>0</td>\n",
       "      <td>0</td>\n",
       "      <td>0</td>\n",
       "      <td>0</td>\n",
       "      <td>0</td>\n",
       "      <td>0</td>\n",
       "    </tr>\n",
       "    <tr>\n",
       "      <th>4</th>\n",
       "      <td>0</td>\n",
       "      <td>0</td>\n",
       "      <td>0</td>\n",
       "      <td>0</td>\n",
       "      <td>0</td>\n",
       "      <td>0</td>\n",
       "      <td>1</td>\n",
       "      <td>1</td>\n",
       "      <td>0</td>\n",
       "      <td>0</td>\n",
       "      <td>...</td>\n",
       "      <td>0</td>\n",
       "      <td>0</td>\n",
       "      <td>0</td>\n",
       "      <td>0</td>\n",
       "      <td>0</td>\n",
       "      <td>0</td>\n",
       "      <td>0</td>\n",
       "      <td>0</td>\n",
       "      <td>0</td>\n",
       "      <td>0</td>\n",
       "    </tr>\n",
       "  </tbody>\n",
       "</table>\n",
       "<p>5 rows × 119 columns</p>\n",
       "</div>"
      ],
      "text/plain": [
       "   white wine  eggplant  bacon  ketchup  nonfat milk  muffins  green tea  \\\n",
       "0           0         0      0        0            0        0          0   \n",
       "1           0         0      0        0            0        0          0   \n",
       "2           0         0      0        0            0        0          0   \n",
       "3           0         0      0        0            0        0          0   \n",
       "4           0         0      0        0            0        0          1   \n",
       "\n",
       "   milk  ground beef  tea  ...  salt  chili  body spray  shrimp  sandwich  \\\n",
       "0     0            0    0  ...     0      0           0       1         0   \n",
       "1     0            0    0  ...     0      0           0       0         0   \n",
       "2     0            0    0  ...     0      0           0       0         0   \n",
       "3     0            0    0  ...     0      0           0       0         0   \n",
       "4     1            0    0  ...     0      0           0       0         0   \n",
       "\n",
       "   pickles  candy bars  soup  salad  black tea  \n",
       "0        0           0     0      0          0  \n",
       "1        0           0     0      0          0  \n",
       "2        0           0     0      0          0  \n",
       "3        0           0     0      0          0  \n",
       "4        0           0     0      0          0  \n",
       "\n",
       "[5 rows x 119 columns]"
      ]
     },
     "execution_count": 19,
     "metadata": {},
     "output_type": "execute_result"
    }
   ],
   "source": [
    "eclat = ECLAT(data=dataset)\n",
    "df_eclat = eclat.df_bin\n",
    "df_eclat.head()\n",
    "# Every row represents a transaction. Columns are possible products that might appear in every transaction"
   ]
  },
  {
   "cell_type": "markdown",
   "metadata": {},
   "source": [
    "## Counting the items in every column and for every row"
   ]
  },
  {
   "cell_type": "code",
   "execution_count": 20,
   "metadata": {},
   "outputs": [
    {
     "data": {
      "text/plain": [
       "white wine      50\n",
       "eggplant        31\n",
       "bacon           26\n",
       "ketchup         11\n",
       "nonfat milk     29\n",
       "              ... \n",
       "pickles         17\n",
       "candy bars      28\n",
       "soup           163\n",
       "salad           10\n",
       "black tea       34\n",
       "Length: 119, dtype: int64"
      ]
     },
     "execution_count": 20,
     "metadata": {},
     "output_type": "execute_result"
    }
   ],
   "source": [
    "# count items in each column\n",
    "items_total = df_eclat.sum(axis=0)\n",
    "items_total"
   ]
  },
  {
   "cell_type": "code",
   "execution_count": 21,
   "metadata": {},
   "outputs": [
    {
     "data": {
      "text/plain": [
       "0       7\n",
       "1       3\n",
       "2       1\n",
       "3       2\n",
       "4       5\n",
       "       ..\n",
       "2996    1\n",
       "2997    2\n",
       "2998    3\n",
       "2999    7\n",
       "3000    5\n",
       "Length: 3001, dtype: int64"
      ]
     },
     "execution_count": 21,
     "metadata": {},
     "output_type": "execute_result"
    }
   ],
   "source": [
    "# count items in each row\n",
    "items_per_transaction = df_eclat.sum(axis=1)\n",
    "items_per_transaction"
   ]
  },
  {
   "cell_type": "markdown",
   "metadata": {},
   "source": [
    "## Visualizing items distribution"
   ]
  },
  {
   "cell_type": "code",
   "execution_count": 22,
   "metadata": {},
   "outputs": [
    {
     "data": {
      "text/html": [
       "<style type=\"text/css\">\n",
       "#T_ae85d_row0_col1 {\n",
       "  background-color: #08306b;\n",
       "  color: #f1f1f1;\n",
       "}\n",
       "#T_ae85d_row1_col1 {\n",
       "  background-color: #a8cee4;\n",
       "  color: #000000;\n",
       "}\n",
       "#T_ae85d_row2_col1 {\n",
       "  background-color: #bdd7ec;\n",
       "  color: #000000;\n",
       "}\n",
       "#T_ae85d_row3_col1 {\n",
       "  background-color: #e6f0f9;\n",
       "  color: #000000;\n",
       "}\n",
       "#T_ae85d_row4_col1 {\n",
       "  background-color: #f7fbff;\n",
       "  color: #000000;\n",
       "}\n",
       "</style>\n",
       "<table id=\"T_ae85d\">\n",
       "  <thead>\n",
       "    <tr>\n",
       "      <th class=\"blank level0\" >&nbsp;</th>\n",
       "      <th id=\"T_ae85d_level0_col0\" class=\"col_heading level0 col0\" >items</th>\n",
       "      <th id=\"T_ae85d_level0_col1\" class=\"col_heading level0 col1\" >transactions</th>\n",
       "    </tr>\n",
       "  </thead>\n",
       "  <tbody>\n",
       "    <tr>\n",
       "      <th id=\"T_ae85d_level0_row0\" class=\"row_heading level0 row0\" >29</th>\n",
       "      <td id=\"T_ae85d_row0_col0\" class=\"data row0 col0\" >mineral water</td>\n",
       "      <td id=\"T_ae85d_row0_col1\" class=\"data row0 col1\" >711</td>\n",
       "    </tr>\n",
       "    <tr>\n",
       "      <th id=\"T_ae85d_level0_row1\" class=\"row_heading level0 row1\" >23</th>\n",
       "      <td id=\"T_ae85d_row1_col0\" class=\"data row1 col0\" >spaghetti</td>\n",
       "      <td id=\"T_ae85d_row1_col1\" class=\"data row1 col1\" >549</td>\n",
       "    </tr>\n",
       "    <tr>\n",
       "      <th id=\"T_ae85d_level0_row2\" class=\"row_heading level0 row2\" >47</th>\n",
       "      <td id=\"T_ae85d_row2_col0\" class=\"data row2 col0\" >eggs</td>\n",
       "      <td id=\"T_ae85d_row2_col1\" class=\"data row2 col1\" >532</td>\n",
       "    </tr>\n",
       "    <tr>\n",
       "      <th id=\"T_ae85d_level0_row3\" class=\"row_heading level0 row3\" >57</th>\n",
       "      <td id=\"T_ae85d_row3_col0\" class=\"data row3 col0\" >chocolate</td>\n",
       "      <td id=\"T_ae85d_row3_col1\" class=\"data row3 col1\" >485</td>\n",
       "    </tr>\n",
       "    <tr>\n",
       "      <th id=\"T_ae85d_level0_row4\" class=\"row_heading level0 row4\" >31</th>\n",
       "      <td id=\"T_ae85d_row4_col0\" class=\"data row4 col0\" >french fries</td>\n",
       "      <td id=\"T_ae85d_row4_col1\" class=\"data row4 col1\" >463</td>\n",
       "    </tr>\n",
       "  </tbody>\n",
       "</table>\n"
      ],
      "text/plain": [
       "<pandas.io.formats.style.Styler at 0x7f59c0a1ab30>"
      ]
     },
     "execution_count": 22,
     "metadata": {},
     "output_type": "execute_result"
    }
   ],
   "source": [
    "# Loading items per column stats to the DataFrame\n",
    "df = pd.DataFrame({\"items\": items_total.index, \"transactions\": items_total.values})\n",
    "\n",
    "df_table = df.sort_values(\"transactions\", ascending=False)\n",
    "\n",
    "df_table.head(5).style.background_gradient(cmap=\"Blues\")"
   ]
  },
  {
   "cell_type": "markdown",
   "metadata": {},
   "source": [
    "## Visualizing the frequently occurring items"
   ]
  },
  {
   "cell_type": "code",
   "execution_count": 8,
   "metadata": {},
   "outputs": [
    {
     "data": {
      "application/vnd.plotly.v1+json": {
       "config": {
        "plotlyServerURL": "https://plot.ly"
       },
       "data": [
        {
         "branchvalues": "total",
         "customdata": [
          [
           "avocado",
           107
          ],
          [
           "brownies",
           71
          ],
          [
           "burgers",
           257
          ],
          [
           "butter",
           89
          ],
          [
           "cake",
           231
          ],
          [
           "champagne",
           128
          ],
          [
           "chicken",
           170
          ],
          [
           "chocolate",
           485
          ],
          [
           "cookies",
           231
          ],
          [
           "cooking oil",
           144
          ],
          [
           "cottage cheese",
           59
          ],
          [
           "eggs",
           532
          ],
          [
           "energy bar",
           80
          ],
          [
           "energy drink",
           72
          ],
          [
           "escalope",
           212
          ],
          [
           "french fries",
           463
          ],
          [
           "french wine",
           65
          ],
          [
           "fresh bread",
           91
          ],
          [
           "fresh tuna",
           77
          ],
          [
           "frozen smoothie",
           144
          ],
          [
           "frozen vegetables",
           276
          ],
          [
           "grated cheese",
           166
          ],
          [
           "green tea",
           340
          ],
          [
           "ground beef",
           281
          ],
          [
           "ham",
           83
          ],
          [
           "herb & pepper",
           151
          ],
          [
           "honey",
           116
          ],
          [
           "hot dogs",
           77
          ],
          [
           "light mayo",
           70
          ],
          [
           "low fat yogurt",
           170
          ],
          [
           "meatballs",
           65
          ],
          [
           "milk",
           381
          ],
          [
           "mineral water",
           711
          ],
          [
           "muffins",
           69
          ],
          [
           "oil",
           71
          ],
          [
           "olive oil",
           198
          ],
          [
           "pancakes",
           236
          ],
          [
           "pepper",
           86
          ],
          [
           "red wine",
           86
          ],
          [
           "salmon",
           117
          ],
          [
           "shrimp",
           232
          ],
          [
           "soup",
           163
          ],
          [
           "spaghetti",
           549
          ],
          [
           "strawberries",
           59
          ],
          [
           "tomatoes",
           206
          ],
          [
           "turkey",
           198
          ],
          [
           "vegetables mix",
           59
          ],
          [
           "whole wheat pasta",
           91
          ],
          [
           "whole wheat rice",
           136
          ],
          [
           "yogurt cake",
           72
          ],
          [
           "(?)",
           299.9690989916513
          ]
         ],
         "domain": {
          "x": [
           0,
           1
          ],
          "y": [
           0,
           1
          ]
         },
         "hovertemplate": "labels=%{label}<br>transactions=%{value}<br>parent=%{parent}<br>id=%{id}<br>items=%{customdata[0]}<br>color=%{color}<extra></extra>",
         "ids": [
          "Tree Map/avocado",
          "Tree Map/brownies",
          "Tree Map/burgers",
          "Tree Map/butter",
          "Tree Map/cake",
          "Tree Map/champagne",
          "Tree Map/chicken",
          "Tree Map/chocolate",
          "Tree Map/cookies",
          "Tree Map/cooking oil",
          "Tree Map/cottage cheese",
          "Tree Map/eggs",
          "Tree Map/energy bar",
          "Tree Map/energy drink",
          "Tree Map/escalope",
          "Tree Map/french fries",
          "Tree Map/french wine",
          "Tree Map/fresh bread",
          "Tree Map/fresh tuna",
          "Tree Map/frozen smoothie",
          "Tree Map/frozen vegetables",
          "Tree Map/grated cheese",
          "Tree Map/green tea",
          "Tree Map/ground beef",
          "Tree Map/ham",
          "Tree Map/herb & pepper",
          "Tree Map/honey",
          "Tree Map/hot dogs",
          "Tree Map/light mayo",
          "Tree Map/low fat yogurt",
          "Tree Map/meatballs",
          "Tree Map/milk",
          "Tree Map/mineral water",
          "Tree Map/muffins",
          "Tree Map/oil",
          "Tree Map/olive oil",
          "Tree Map/pancakes",
          "Tree Map/pepper",
          "Tree Map/red wine",
          "Tree Map/salmon",
          "Tree Map/shrimp",
          "Tree Map/soup",
          "Tree Map/spaghetti",
          "Tree Map/strawberries",
          "Tree Map/tomatoes",
          "Tree Map/turkey",
          "Tree Map/vegetables mix",
          "Tree Map/whole wheat pasta",
          "Tree Map/whole wheat rice",
          "Tree Map/yogurt cake",
          "Tree Map"
         ],
         "labels": [
          "avocado",
          "brownies",
          "burgers",
          "butter",
          "cake",
          "champagne",
          "chicken",
          "chocolate",
          "cookies",
          "cooking oil",
          "cottage cheese",
          "eggs",
          "energy bar",
          "energy drink",
          "escalope",
          "french fries",
          "french wine",
          "fresh bread",
          "fresh tuna",
          "frozen smoothie",
          "frozen vegetables",
          "grated cheese",
          "green tea",
          "ground beef",
          "ham",
          "herb & pepper",
          "honey",
          "hot dogs",
          "light mayo",
          "low fat yogurt",
          "meatballs",
          "milk",
          "mineral water",
          "muffins",
          "oil",
          "olive oil",
          "pancakes",
          "pepper",
          "red wine",
          "salmon",
          "shrimp",
          "soup",
          "spaghetti",
          "strawberries",
          "tomatoes",
          "turkey",
          "vegetables mix",
          "whole wheat pasta",
          "whole wheat rice",
          "yogurt cake",
          "Tree Map"
         ],
         "marker": {
          "coloraxis": "coloraxis",
          "colors": [
           107,
           71,
           257,
           89,
           231,
           128,
           170,
           485,
           231,
           144,
           59,
           532,
           80,
           72,
           212,
           463,
           65,
           91,
           77,
           144,
           276,
           166,
           340,
           281,
           83,
           151,
           116,
           77,
           70,
           170,
           65,
           381,
           711,
           69,
           71,
           198,
           236,
           86,
           86,
           117,
           232,
           163,
           549,
           59,
           206,
           198,
           59,
           91,
           136,
           72,
           299.9690989916513
          ]
         },
         "name": "",
         "parents": [
          "Tree Map",
          "Tree Map",
          "Tree Map",
          "Tree Map",
          "Tree Map",
          "Tree Map",
          "Tree Map",
          "Tree Map",
          "Tree Map",
          "Tree Map",
          "Tree Map",
          "Tree Map",
          "Tree Map",
          "Tree Map",
          "Tree Map",
          "Tree Map",
          "Tree Map",
          "Tree Map",
          "Tree Map",
          "Tree Map",
          "Tree Map",
          "Tree Map",
          "Tree Map",
          "Tree Map",
          "Tree Map",
          "Tree Map",
          "Tree Map",
          "Tree Map",
          "Tree Map",
          "Tree Map",
          "Tree Map",
          "Tree Map",
          "Tree Map",
          "Tree Map",
          "Tree Map",
          "Tree Map",
          "Tree Map",
          "Tree Map",
          "Tree Map",
          "Tree Map",
          "Tree Map",
          "Tree Map",
          "Tree Map",
          "Tree Map",
          "Tree Map",
          "Tree Map",
          "Tree Map",
          "Tree Map",
          "Tree Map",
          "Tree Map",
          ""
         ],
         "type": "treemap",
         "values": [
          107,
          71,
          257,
          89,
          231,
          128,
          170,
          485,
          231,
          144,
          59,
          532,
          80,
          72,
          212,
          463,
          65,
          91,
          77,
          144,
          276,
          166,
          340,
          281,
          83,
          151,
          116,
          77,
          70,
          170,
          65,
          381,
          711,
          69,
          71,
          198,
          236,
          86,
          86,
          117,
          232,
          163,
          549,
          59,
          206,
          198,
          59,
          91,
          136,
          72,
          9223
         ]
        }
       ],
       "layout": {
        "coloraxis": {
         "colorbar": {
          "title": {
           "text": "color"
          }
         },
         "colorscale": [
          [
           0,
           "rgb(247,251,255)"
          ],
          [
           0.125,
           "rgb(222,235,247)"
          ],
          [
           0.25,
           "rgb(198,219,239)"
          ],
          [
           0.375,
           "rgb(158,202,225)"
          ],
          [
           0.5,
           "rgb(107,174,214)"
          ],
          [
           0.625,
           "rgb(66,146,198)"
          ],
          [
           0.75,
           "rgb(33,113,181)"
          ],
          [
           0.875,
           "rgb(8,81,156)"
          ],
          [
           1,
           "rgb(8,48,107)"
          ]
         ]
        },
        "legend": {
         "tracegroupgap": 0
        },
        "margin": {
         "t": 60
        },
        "template": {
         "data": {
          "bar": [
           {
            "error_x": {
             "color": "#2a3f5f"
            },
            "error_y": {
             "color": "#2a3f5f"
            },
            "marker": {
             "line": {
              "color": "#E5ECF6",
              "width": 0.5
             },
             "pattern": {
              "fillmode": "overlay",
              "size": 10,
              "solidity": 0.2
             }
            },
            "type": "bar"
           }
          ],
          "barpolar": [
           {
            "marker": {
             "line": {
              "color": "#E5ECF6",
              "width": 0.5
             },
             "pattern": {
              "fillmode": "overlay",
              "size": 10,
              "solidity": 0.2
             }
            },
            "type": "barpolar"
           }
          ],
          "carpet": [
           {
            "aaxis": {
             "endlinecolor": "#2a3f5f",
             "gridcolor": "white",
             "linecolor": "white",
             "minorgridcolor": "white",
             "startlinecolor": "#2a3f5f"
            },
            "baxis": {
             "endlinecolor": "#2a3f5f",
             "gridcolor": "white",
             "linecolor": "white",
             "minorgridcolor": "white",
             "startlinecolor": "#2a3f5f"
            },
            "type": "carpet"
           }
          ],
          "choropleth": [
           {
            "colorbar": {
             "outlinewidth": 0,
             "ticks": ""
            },
            "type": "choropleth"
           }
          ],
          "contour": [
           {
            "colorbar": {
             "outlinewidth": 0,
             "ticks": ""
            },
            "colorscale": [
             [
              0,
              "#0d0887"
             ],
             [
              0.1111111111111111,
              "#46039f"
             ],
             [
              0.2222222222222222,
              "#7201a8"
             ],
             [
              0.3333333333333333,
              "#9c179e"
             ],
             [
              0.4444444444444444,
              "#bd3786"
             ],
             [
              0.5555555555555556,
              "#d8576b"
             ],
             [
              0.6666666666666666,
              "#ed7953"
             ],
             [
              0.7777777777777778,
              "#fb9f3a"
             ],
             [
              0.8888888888888888,
              "#fdca26"
             ],
             [
              1,
              "#f0f921"
             ]
            ],
            "type": "contour"
           }
          ],
          "contourcarpet": [
           {
            "colorbar": {
             "outlinewidth": 0,
             "ticks": ""
            },
            "type": "contourcarpet"
           }
          ],
          "heatmap": [
           {
            "colorbar": {
             "outlinewidth": 0,
             "ticks": ""
            },
            "colorscale": [
             [
              0,
              "#0d0887"
             ],
             [
              0.1111111111111111,
              "#46039f"
             ],
             [
              0.2222222222222222,
              "#7201a8"
             ],
             [
              0.3333333333333333,
              "#9c179e"
             ],
             [
              0.4444444444444444,
              "#bd3786"
             ],
             [
              0.5555555555555556,
              "#d8576b"
             ],
             [
              0.6666666666666666,
              "#ed7953"
             ],
             [
              0.7777777777777778,
              "#fb9f3a"
             ],
             [
              0.8888888888888888,
              "#fdca26"
             ],
             [
              1,
              "#f0f921"
             ]
            ],
            "type": "heatmap"
           }
          ],
          "heatmapgl": [
           {
            "colorbar": {
             "outlinewidth": 0,
             "ticks": ""
            },
            "colorscale": [
             [
              0,
              "#0d0887"
             ],
             [
              0.1111111111111111,
              "#46039f"
             ],
             [
              0.2222222222222222,
              "#7201a8"
             ],
             [
              0.3333333333333333,
              "#9c179e"
             ],
             [
              0.4444444444444444,
              "#bd3786"
             ],
             [
              0.5555555555555556,
              "#d8576b"
             ],
             [
              0.6666666666666666,
              "#ed7953"
             ],
             [
              0.7777777777777778,
              "#fb9f3a"
             ],
             [
              0.8888888888888888,
              "#fdca26"
             ],
             [
              1,
              "#f0f921"
             ]
            ],
            "type": "heatmapgl"
           }
          ],
          "histogram": [
           {
            "marker": {
             "pattern": {
              "fillmode": "overlay",
              "size": 10,
              "solidity": 0.2
             }
            },
            "type": "histogram"
           }
          ],
          "histogram2d": [
           {
            "colorbar": {
             "outlinewidth": 0,
             "ticks": ""
            },
            "colorscale": [
             [
              0,
              "#0d0887"
             ],
             [
              0.1111111111111111,
              "#46039f"
             ],
             [
              0.2222222222222222,
              "#7201a8"
             ],
             [
              0.3333333333333333,
              "#9c179e"
             ],
             [
              0.4444444444444444,
              "#bd3786"
             ],
             [
              0.5555555555555556,
              "#d8576b"
             ],
             [
              0.6666666666666666,
              "#ed7953"
             ],
             [
              0.7777777777777778,
              "#fb9f3a"
             ],
             [
              0.8888888888888888,
              "#fdca26"
             ],
             [
              1,
              "#f0f921"
             ]
            ],
            "type": "histogram2d"
           }
          ],
          "histogram2dcontour": [
           {
            "colorbar": {
             "outlinewidth": 0,
             "ticks": ""
            },
            "colorscale": [
             [
              0,
              "#0d0887"
             ],
             [
              0.1111111111111111,
              "#46039f"
             ],
             [
              0.2222222222222222,
              "#7201a8"
             ],
             [
              0.3333333333333333,
              "#9c179e"
             ],
             [
              0.4444444444444444,
              "#bd3786"
             ],
             [
              0.5555555555555556,
              "#d8576b"
             ],
             [
              0.6666666666666666,
              "#ed7953"
             ],
             [
              0.7777777777777778,
              "#fb9f3a"
             ],
             [
              0.8888888888888888,
              "#fdca26"
             ],
             [
              1,
              "#f0f921"
             ]
            ],
            "type": "histogram2dcontour"
           }
          ],
          "mesh3d": [
           {
            "colorbar": {
             "outlinewidth": 0,
             "ticks": ""
            },
            "type": "mesh3d"
           }
          ],
          "parcoords": [
           {
            "line": {
             "colorbar": {
              "outlinewidth": 0,
              "ticks": ""
             }
            },
            "type": "parcoords"
           }
          ],
          "pie": [
           {
            "automargin": true,
            "type": "pie"
           }
          ],
          "scatter": [
           {
            "fillpattern": {
             "fillmode": "overlay",
             "size": 10,
             "solidity": 0.2
            },
            "type": "scatter"
           }
          ],
          "scatter3d": [
           {
            "line": {
             "colorbar": {
              "outlinewidth": 0,
              "ticks": ""
             }
            },
            "marker": {
             "colorbar": {
              "outlinewidth": 0,
              "ticks": ""
             }
            },
            "type": "scatter3d"
           }
          ],
          "scattercarpet": [
           {
            "marker": {
             "colorbar": {
              "outlinewidth": 0,
              "ticks": ""
             }
            },
            "type": "scattercarpet"
           }
          ],
          "scattergeo": [
           {
            "marker": {
             "colorbar": {
              "outlinewidth": 0,
              "ticks": ""
             }
            },
            "type": "scattergeo"
           }
          ],
          "scattergl": [
           {
            "marker": {
             "colorbar": {
              "outlinewidth": 0,
              "ticks": ""
             }
            },
            "type": "scattergl"
           }
          ],
          "scattermapbox": [
           {
            "marker": {
             "colorbar": {
              "outlinewidth": 0,
              "ticks": ""
             }
            },
            "type": "scattermapbox"
           }
          ],
          "scatterpolar": [
           {
            "marker": {
             "colorbar": {
              "outlinewidth": 0,
              "ticks": ""
             }
            },
            "type": "scatterpolar"
           }
          ],
          "scatterpolargl": [
           {
            "marker": {
             "colorbar": {
              "outlinewidth": 0,
              "ticks": ""
             }
            },
            "type": "scatterpolargl"
           }
          ],
          "scatterternary": [
           {
            "marker": {
             "colorbar": {
              "outlinewidth": 0,
              "ticks": ""
             }
            },
            "type": "scatterternary"
           }
          ],
          "surface": [
           {
            "colorbar": {
             "outlinewidth": 0,
             "ticks": ""
            },
            "colorscale": [
             [
              0,
              "#0d0887"
             ],
             [
              0.1111111111111111,
              "#46039f"
             ],
             [
              0.2222222222222222,
              "#7201a8"
             ],
             [
              0.3333333333333333,
              "#9c179e"
             ],
             [
              0.4444444444444444,
              "#bd3786"
             ],
             [
              0.5555555555555556,
              "#d8576b"
             ],
             [
              0.6666666666666666,
              "#ed7953"
             ],
             [
              0.7777777777777778,
              "#fb9f3a"
             ],
             [
              0.8888888888888888,
              "#fdca26"
             ],
             [
              1,
              "#f0f921"
             ]
            ],
            "type": "surface"
           }
          ],
          "table": [
           {
            "cells": {
             "fill": {
              "color": "#EBF0F8"
             },
             "line": {
              "color": "white"
             }
            },
            "header": {
             "fill": {
              "color": "#C8D4E3"
             },
             "line": {
              "color": "white"
             }
            },
            "type": "table"
           }
          ]
         },
         "layout": {
          "annotationdefaults": {
           "arrowcolor": "#2a3f5f",
           "arrowhead": 0,
           "arrowwidth": 1
          },
          "autotypenumbers": "strict",
          "coloraxis": {
           "colorbar": {
            "outlinewidth": 0,
            "ticks": ""
           }
          },
          "colorscale": {
           "diverging": [
            [
             0,
             "#8e0152"
            ],
            [
             0.1,
             "#c51b7d"
            ],
            [
             0.2,
             "#de77ae"
            ],
            [
             0.3,
             "#f1b6da"
            ],
            [
             0.4,
             "#fde0ef"
            ],
            [
             0.5,
             "#f7f7f7"
            ],
            [
             0.6,
             "#e6f5d0"
            ],
            [
             0.7,
             "#b8e186"
            ],
            [
             0.8,
             "#7fbc41"
            ],
            [
             0.9,
             "#4d9221"
            ],
            [
             1,
             "#276419"
            ]
           ],
           "sequential": [
            [
             0,
             "#0d0887"
            ],
            [
             0.1111111111111111,
             "#46039f"
            ],
            [
             0.2222222222222222,
             "#7201a8"
            ],
            [
             0.3333333333333333,
             "#9c179e"
            ],
            [
             0.4444444444444444,
             "#bd3786"
            ],
            [
             0.5555555555555556,
             "#d8576b"
            ],
            [
             0.6666666666666666,
             "#ed7953"
            ],
            [
             0.7777777777777778,
             "#fb9f3a"
            ],
            [
             0.8888888888888888,
             "#fdca26"
            ],
            [
             1,
             "#f0f921"
            ]
           ],
           "sequentialminus": [
            [
             0,
             "#0d0887"
            ],
            [
             0.1111111111111111,
             "#46039f"
            ],
            [
             0.2222222222222222,
             "#7201a8"
            ],
            [
             0.3333333333333333,
             "#9c179e"
            ],
            [
             0.4444444444444444,
             "#bd3786"
            ],
            [
             0.5555555555555556,
             "#d8576b"
            ],
            [
             0.6666666666666666,
             "#ed7953"
            ],
            [
             0.7777777777777778,
             "#fb9f3a"
            ],
            [
             0.8888888888888888,
             "#fdca26"
            ],
            [
             1,
             "#f0f921"
            ]
           ]
          },
          "colorway": [
           "#636efa",
           "#EF553B",
           "#00cc96",
           "#ab63fa",
           "#FFA15A",
           "#19d3f3",
           "#FF6692",
           "#B6E880",
           "#FF97FF",
           "#FECB52"
          ],
          "font": {
           "color": "#2a3f5f"
          },
          "geo": {
           "bgcolor": "white",
           "lakecolor": "white",
           "landcolor": "#E5ECF6",
           "showlakes": true,
           "showland": true,
           "subunitcolor": "white"
          },
          "hoverlabel": {
           "align": "left"
          },
          "hovermode": "closest",
          "mapbox": {
           "style": "light"
          },
          "paper_bgcolor": "white",
          "plot_bgcolor": "#E5ECF6",
          "polar": {
           "angularaxis": {
            "gridcolor": "white",
            "linecolor": "white",
            "ticks": ""
           },
           "bgcolor": "#E5ECF6",
           "radialaxis": {
            "gridcolor": "white",
            "linecolor": "white",
            "ticks": ""
           }
          },
          "scene": {
           "xaxis": {
            "backgroundcolor": "#E5ECF6",
            "gridcolor": "white",
            "gridwidth": 2,
            "linecolor": "white",
            "showbackground": true,
            "ticks": "",
            "zerolinecolor": "white"
           },
           "yaxis": {
            "backgroundcolor": "#E5ECF6",
            "gridcolor": "white",
            "gridwidth": 2,
            "linecolor": "white",
            "showbackground": true,
            "ticks": "",
            "zerolinecolor": "white"
           },
           "zaxis": {
            "backgroundcolor": "#E5ECF6",
            "gridcolor": "white",
            "gridwidth": 2,
            "linecolor": "white",
            "showbackground": true,
            "ticks": "",
            "zerolinecolor": "white"
           }
          },
          "shapedefaults": {
           "line": {
            "color": "#2a3f5f"
           }
          },
          "ternary": {
           "aaxis": {
            "gridcolor": "white",
            "linecolor": "white",
            "ticks": ""
           },
           "baxis": {
            "gridcolor": "white",
            "linecolor": "white",
            "ticks": ""
           },
           "bgcolor": "#E5ECF6",
           "caxis": {
            "gridcolor": "white",
            "linecolor": "white",
            "ticks": ""
           }
          },
          "title": {
           "x": 0.05
          },
          "xaxis": {
           "automargin": true,
           "gridcolor": "white",
           "linecolor": "white",
           "ticks": "",
           "title": {
            "standoff": 15
           },
           "zerolinecolor": "white",
           "zerolinewidth": 2
          },
          "yaxis": {
           "automargin": true,
           "gridcolor": "white",
           "linecolor": "white",
           "ticks": "",
           "title": {
            "standoff": 15
           },
           "zerolinecolor": "white",
           "zerolinewidth": 2
          }
         }
        }
       }
      }
     },
     "metadata": {},
     "output_type": "display_data"
    }
   ],
   "source": [
    "df_table[\"all\"] = \"Tree Map\"\n",
    "\n",
    "fig = px.treemap(\n",
    "    df_table.head(50), path=[\"all\", \"items\"], values=\"transactions\",\n",
    "    color=df_table[\"transactions\"].head(50), hover_data=[\"items\"],\n",
    "    color_continuous_scale=\"Blues\",\n",
    ")\n",
    "\n",
    "fig.show()"
   ]
  },
  {
   "cell_type": "markdown",
   "metadata": {},
   "source": [
    "## Generating association rules"
   ]
  },
  {
   "cell_type": "code",
   "execution_count": 24,
   "metadata": {},
   "outputs": [
    {
     "name": "stdout",
     "output_type": "stream",
     "text": [
      "Combination 2 by 2\n"
     ]
    },
    {
     "name": "stderr",
     "output_type": "stream",
     "text": [
      "153it [00:01, 115.02it/s]\n"
     ]
    },
    {
     "name": "stdout",
     "output_type": "stream",
     "text": [
      "Combination 3 by 3\n"
     ]
    },
    {
     "name": "stderr",
     "output_type": "stream",
     "text": [
      "816it [00:05, 143.57it/s]\n"
     ]
    },
    {
     "name": "stdout",
     "output_type": "stream",
     "text": [
      "Combination 4 by 4\n"
     ]
    },
    {
     "name": "stderr",
     "output_type": "stream",
     "text": [
      "3060it [00:23, 132.49it/s]\n"
     ]
    },
    {
     "name": "stdout",
     "output_type": "stream",
     "text": [
      "Combination 5 by 5\n"
     ]
    },
    {
     "name": "stderr",
     "output_type": "stream",
     "text": [
      "8568it [01:01, 140.11it/s]\n"
     ]
    },
    {
     "name": "stdout",
     "output_type": "stream",
     "text": [
      "Combination 6 by 6\n"
     ]
    },
    {
     "name": "stderr",
     "output_type": "stream",
     "text": [
      "18564it [02:11, 141.07it/s]\n"
     ]
    },
    {
     "name": "stdout",
     "output_type": "stream",
     "text": [
      "Combination 7 by 7\n"
     ]
    },
    {
     "name": "stderr",
     "output_type": "stream",
     "text": [
      "31824it [04:10, 127.15it/s]\n"
     ]
    }
   ],
   "source": [
    "rule_indices, rule_supports = eclat.fit(\n",
    "    min_support=0.06,\n",
    "    min_combination=2,\n",
    "    max_combination=max(items_per_transaction),\n",
    "    separator=' & ',\n",
    "    verbose=True,\n",
    ")"
   ]
  },
  {
   "cell_type": "markdown",
   "metadata": {},
   "source": [
    "## Result"
   ]
  },
  {
   "cell_type": "code",
   "execution_count": 25,
   "metadata": {},
   "outputs": [
    {
     "data": {
      "text/html": [
       "<div>\n",
       "<style scoped>\n",
       "    .dataframe tbody tr th:only-of-type {\n",
       "        vertical-align: middle;\n",
       "    }\n",
       "\n",
       "    .dataframe tbody tr th {\n",
       "        vertical-align: top;\n",
       "    }\n",
       "\n",
       "    .dataframe thead th {\n",
       "        text-align: right;\n",
       "    }\n",
       "</style>\n",
       "<table border=\"1\" class=\"dataframe\">\n",
       "  <thead>\n",
       "    <tr style=\"text-align: right;\">\n",
       "      <th></th>\n",
       "      <th>Item</th>\n",
       "      <th>Support</th>\n",
       "    </tr>\n",
       "  </thead>\n",
       "  <tbody>\n",
       "    <tr>\n",
       "      <th>0</th>\n",
       "      <td>spaghetti &amp; mineral water</td>\n",
       "      <td>0.060646</td>\n",
       "    </tr>\n",
       "  </tbody>\n",
       "</table>\n",
       "</div>"
      ],
      "text/plain": [
       "                        Item   Support\n",
       "0  spaghetti & mineral water  0.060646"
      ]
     },
     "execution_count": 25,
     "metadata": {},
     "output_type": "execute_result"
    }
   ],
   "source": [
    "result = pd.DataFrame(rule_supports.items(),columns=[\"Item\", \"Support\"])\n",
    "result.sort_values(by=[\"Support\"], ascending=False)"
   ]
  },
  {
   "cell_type": "markdown",
   "metadata": {},
   "source": [
    "**Result**: We found that mineral water and spaghetti are commonly purchased by customers based on the transaction data in our dataset and the minimum support value we’ve provided."
   ]
  }
 ],
 "metadata": {
  "kernelspec": {
   "display_name": "py310",
   "language": "python",
   "name": "python3"
  },
  "language_info": {
   "codemirror_mode": {
    "name": "ipython",
    "version": 3
   },
   "file_extension": ".py",
   "mimetype": "text/x-python",
   "name": "python",
   "nbconvert_exporter": "python",
   "pygments_lexer": "ipython3",
   "version": "3.10.13"
  },
  "orig_nbformat": 4
 },
 "nbformat": 4,
 "nbformat_minor": 2
}
