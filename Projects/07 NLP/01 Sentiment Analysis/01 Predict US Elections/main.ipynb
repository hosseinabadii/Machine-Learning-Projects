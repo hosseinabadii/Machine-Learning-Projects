{
 "cells": [
  {
   "cell_type": "markdown",
   "metadata": {},
   "source": [
    "# Predict US Elections\n",
    "[Source link](https://thecleverprogrammer.com/2020/10/01/predict-us-elections-with-python/)"
   ]
  },
  {
   "cell_type": "markdown",
   "metadata": {},
   "source": [
    "## Importing the libraries"
   ]
  },
  {
   "cell_type": "code",
   "execution_count": 1,
   "metadata": {},
   "outputs": [],
   "source": [
    "import pandas as pd\n",
    "import numpy as np\n",
    "import seaborn as sns\n",
    "import matplotlib.pyplot as plt\n",
    "from textblob import TextBlob"
   ]
  },
  {
   "cell_type": "markdown",
   "metadata": {},
   "source": [
    "## Loading the dataset"
   ]
  },
  {
   "cell_type": "code",
   "execution_count": 2,
   "metadata": {},
   "outputs": [
    {
     "name": "stdout",
     "output_type": "stream",
     "text": [
      "Trump Reviews (2788, 2)\n",
      "Biden Reviews (2540, 2)\n"
     ]
    }
   ],
   "source": [
    "trump_reviews = pd.read_csv(\"data/Trumpall2.csv\")\n",
    "biden_reviews = pd.read_csv(\"data/Bidenall2.csv\")\n",
    "\n",
    "print(f\"Trump Reviews {trump_reviews.shape}\")\n",
    "print(f\"Biden Reviews {biden_reviews.shape}\")"
   ]
  },
  {
   "cell_type": "code",
   "execution_count": 3,
   "metadata": {},
   "outputs": [
    {
     "name": "stdout",
     "output_type": "stream",
     "text": [
      "              user                                               text\n",
      "0      manny_rosen   @sanofi please tell us how many shares the Cr...\n",
      "1        osi_abdul   https://t.co/atM98CpqF7  Like, comment, RT #P...\n",
      "2          Patsyrw   Your AG Barr is as useless &amp; corrupt as y...\n",
      "3  seyedebrahimi_m   Mr. Trump! Wake Up!  Most of the comments bel...\n",
      "4    James09254677   After 4 years you think you would have figure...\n",
      "\n",
      "           user                                               text\n",
      "0   MarkHodder3    @JoeBiden And we’ll find out who won in 2026...\n",
      "1    K87327961G  @JoeBiden Your Democratic Nazi Party cannot be...\n",
      "2      OldlaceA                        @JoeBiden So did Lying Barr\n",
      "3    penblogger  @JoeBiden It's clear you didnt compose this tw...\n",
      "4  Aquarian0264         @JoeBiden I will vote in person thank you.\n"
     ]
    }
   ],
   "source": [
    "print(trump_reviews.head())\n",
    "print()\n",
    "print(biden_reviews.head())"
   ]
  },
  {
   "cell_type": "markdown",
   "metadata": {},
   "source": [
    "## Sentiment Analysis"
   ]
  },
  {
   "cell_type": "markdown",
   "metadata": {},
   "source": [
    "We use `Textblob` package to perform simple text classification in either positive or negative on the basis of sentiment analysis.  \n",
    "Polarity ranges from -1 to +1(negative to positive) and tells whether the text has negative sentiments or positive sentiments.  \n",
    "Polarity tells about factual information.\n",
    "\n",
    "For example:"
   ]
  },
  {
   "cell_type": "code",
   "execution_count": 4,
   "metadata": {},
   "outputs": [
    {
     "name": "stdout",
     "output_type": "stream",
     "text": [
      "Trump : Sentiment(polarity=0.15, subjectivity=0.3125)\n",
      "Biden : Sentiment(polarity=0.6, subjectivity=0.9)\n"
     ]
    }
   ],
   "source": [
    "textblob1 = TextBlob(trump_reviews[\"text\"][10])\n",
    "print(\"Trump :\",textblob1.sentiment)\n",
    "textblob2 = TextBlob(biden_reviews[\"text\"][500])\n",
    "print(\"Biden :\",textblob2.sentiment)"
   ]
  },
  {
   "cell_type": "markdown",
   "metadata": {},
   "source": [
    "### Adding **sentiment polarity** column to datasets"
   ]
  },
  {
   "cell_type": "code",
   "execution_count": 5,
   "metadata": {},
   "outputs": [
    {
     "name": "stdout",
     "output_type": "stream",
     "text": [
      "0    0.05\n",
      "1    0.00\n",
      "2   -0.50\n",
      "3    0.50\n",
      "4    0.00\n",
      "Name: Sentiment Polarity, dtype: float64\n",
      "\n",
      "0    0.00\n",
      "1    0.00\n",
      "2    0.00\n",
      "3    0.05\n",
      "4    0.00\n",
      "Name: Sentiment Polarity, dtype: float64\n"
     ]
    }
   ],
   "source": [
    "def find_pol(review):\n",
    "    return TextBlob(review).sentiment.polarity\n",
    "\n",
    "trump_reviews[\"Sentiment Polarity\"] = trump_reviews[\"text\"].apply(find_pol)\n",
    "biden_reviews[\"Sentiment Polarity\"] = biden_reviews[\"text\"].apply(find_pol)\n",
    "\n",
    "print(trump_reviews[\"Sentiment Polarity\"].head())\n",
    "print()\n",
    "print(biden_reviews[\"Sentiment Polarity\"].head())"
   ]
  },
  {
   "cell_type": "markdown",
   "metadata": {},
   "source": [
    "## Sentiment Polarity on Both the candidates"
   ]
  },
  {
   "cell_type": "code",
   "execution_count": 6,
   "metadata": {},
   "outputs": [
    {
     "name": "stdout",
     "output_type": "stream",
     "text": [
      "   Sentiment Polarity Expression Label\n",
      "0                0.05         Positive\n",
      "1                0.00           Neural\n",
      "2               -0.50         Negative\n",
      "3                0.50         Positive\n",
      "4                0.00           Neural\n",
      "\n",
      "   Sentiment Polarity Expression Label\n",
      "0                0.00           Neural\n",
      "1                0.00           Neural\n",
      "2                0.00           Neural\n",
      "3                0.05         Positive\n",
      "4                0.00           Neural\n"
     ]
    }
   ],
   "source": [
    "trump_reviews[\"Expression Label\"] = np.where(trump_reviews[\"Sentiment Polarity\"] > 0, \"Positive\", \"Negative\")\n",
    "trump_reviews.loc[trump_reviews[\"Sentiment Polarity\"] == 0, \"Expression Label\"] = \"Neural\"\n",
    "print(trump_reviews[[\"Sentiment Polarity\", \"Expression Label\"]].head())\n",
    "\n",
    "print()\n",
    "\n",
    "biden_reviews[\"Expression Label\"] = np.where(biden_reviews[\"Sentiment Polarity\"] > 0, \"Positive\", \"Negative\")\n",
    "biden_reviews.loc[biden_reviews[\"Sentiment Polarity\"] == 0, \"Expression Label\"] = \"Neural\"\n",
    "print(biden_reviews[[\"Sentiment Polarity\", \"Expression Label\"]].head())"
   ]
  },
  {
   "cell_type": "markdown",
   "metadata": {},
   "source": [
    "## Analyzing the date before cleaning"
   ]
  },
  {
   "cell_type": "code",
   "execution_count": 7,
   "metadata": {},
   "outputs": [
    {
     "data": {
      "image/png": "[encoded data removed]",
      "text/plain": [
       "<Figure size 1000x500 with 2 Axes>"
      ]
     },
     "metadata": {},
     "output_type": "display_data"
    }
   ],
   "source": [
    "fig, axes = plt.subplots(nrows=1, ncols=2, figsize=(10, 5), sharey=True)\n",
    "\n",
    "sns.histplot(\n",
    "    biden_reviews.sort_values(by=[\"Expression Label\"]),\n",
    "    x=\"Expression Label\",\n",
    "    hue=\"Expression Label\",\n",
    "    palette=[\"red\", \"green\", \"blue\"],\n",
    "    stat=\"percent\",\n",
    "    legend=False,\n",
    "    shrink=0.8,\n",
    "    ax=axes[0],\n",
    ").set_title(\"Joe Biden\", fontsize=16)\n",
    "\n",
    "sns.histplot(\n",
    "    trump_reviews.sort_values(by=[\"Expression Label\"]),\n",
    "    x=\"Expression Label\",\n",
    "    hue=\"Expression Label\",\n",
    "    palette=[\"red\", \"green\", \"blue\"],\n",
    "    stat=\"percent\",\n",
    "    legend=False,\n",
    "    shrink=0.8,\n",
    "    ax=axes[1],\n",
    ").set_title(\"Donald Trump\", fontsize=16)\n",
    "\n",
    "fig.tight_layout(pad=5.0);"
   ]
  },
  {
   "cell_type": "markdown",
   "metadata": {},
   "source": [
    "## Cleaning the datasets"
   ]
  },
  {
   "cell_type": "code",
   "execution_count": 8,
   "metadata": {},
   "outputs": [
    {
     "name": "stdout",
     "output_type": "stream",
     "text": [
      "(1464, 4)\n",
      "(1324, 4)\n",
      "(1509, 4)\n",
      "(1031, 4)\n"
     ]
    }
   ],
   "source": [
    "reviews1 = trump_reviews[trump_reviews['Sentiment Polarity'] == 0.0000]\n",
    "print(reviews1.shape)\n",
    "\n",
    "cond1=trump_reviews['Sentiment Polarity'].isin(reviews1['Sentiment Polarity'])\n",
    "trump_reviews.drop(trump_reviews[cond1].index, inplace = True)\n",
    "print(trump_reviews.shape)\n",
    "\n",
    "reviews2 = biden_reviews[biden_reviews['Sentiment Polarity'] == 0.0000]\n",
    "print(reviews2.shape)\n",
    "\n",
    "cond2=biden_reviews['Sentiment Polarity'].isin(reviews1['Sentiment Polarity'])\n",
    "biden_reviews.drop(biden_reviews[cond2].index, inplace = True)\n",
    "print(biden_reviews.shape)"
   ]
  },
  {
   "cell_type": "code",
   "execution_count": 9,
   "metadata": {},
   "outputs": [
    {
     "name": "stdout",
     "output_type": "stream",
     "text": [
      "(1000, 4)\n",
      "(1000, 4)\n"
     ]
    }
   ],
   "source": [
    "# Donald Trump\n",
    "np.random.seed(10)\n",
    "remove_n =324\n",
    "drop_indices = np.random.choice(trump_reviews.index, remove_n, replace=False)\n",
    "df_subset_trump = trump_reviews.drop(drop_indices)\n",
    "print(df_subset_trump.shape)\n",
    "# Joe Biden\n",
    "np.random.seed(10)\n",
    "remove_n =31\n",
    "drop_indices = np.random.choice(biden_reviews.index, remove_n, replace=False)\n",
    "df_subset_biden = biden_reviews.drop(drop_indices)\n",
    "print(df_subset_biden.shape)"
   ]
  },
  {
   "cell_type": "markdown",
   "metadata": {},
   "source": [
    "## Analyzing the date after cleaning"
   ]
  },
  {
   "cell_type": "code",
   "execution_count": 10,
   "metadata": {},
   "outputs": [
    {
     "data": {
      "image/png": "[encoded data removed]",
      "text/plain": [
       "<Figure size 1000x500 with 2 Axes>"
      ]
     },
     "metadata": {},
     "output_type": "display_data"
    }
   ],
   "source": [
    "fig, axes = plt.subplots(nrows=1, ncols=2, figsize=(10, 5), sharey=True)\n",
    "\n",
    "sns.histplot(\n",
    "    df_subset_biden.sort_values(by=[\"Expression Label\"]),\n",
    "    x=\"Expression Label\",\n",
    "    hue=\"Expression Label\",\n",
    "    palette=[\"red\", \"blue\"],\n",
    "    stat=\"percent\",\n",
    "    legend=False,\n",
    "    shrink=0.8,\n",
    "    ax=axes[0],\n",
    ").set_title(\"Joe Biden\", fontsize=16)\n",
    "\n",
    "sns.histplot(\n",
    "    df_subset_trump.sort_values(by=[\"Expression Label\"]),\n",
    "    x=\"Expression Label\",\n",
    "    hue=\"Expression Label\",\n",
    "    palette=[\"red\", \"blue\"],\n",
    "    stat=\"percent\",\n",
    "    legend=False,\n",
    "    shrink=0.8,\n",
    "    ax=axes[1],\n",
    ").set_title(\"Donald Trump\", fontsize=16)\n",
    "\n",
    "fig.tight_layout(pad=5.0);"
   ]
  },
  {
   "cell_type": "markdown",
   "metadata": {},
   "source": [
    "**Result:** From the above figure, it is very clear that Joe Biden is getting more Positive tweets and less negative tweets as compared to Donald Trump. So it will not be wrong to conclude that Joe Bined is more prefered by the people to win the US Presidential Elections than Donald Trump."
   ]
  }
 ],
 "metadata": {
  "kernelspec": {
   "display_name": "py310",
   "language": "python",
   "name": "python3"
  },
  "language_info": {
   "codemirror_mode": {
    "name": "ipython",
    "version": 3
   },
   "file_extension": ".py",
   "mimetype": "text/x-python",
   "name": "python",
   "nbconvert_exporter": "python",
   "pygments_lexer": "ipython3",
   "version": "3.10.13"
  },
  "orig_nbformat": 4
 },
 "nbformat": 4,
 "nbformat_minor": 2
}
